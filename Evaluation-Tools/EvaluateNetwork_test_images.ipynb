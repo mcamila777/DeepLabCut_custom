{
 "cells": [
  {
   "cell_type": "markdown",
   "metadata": {},
   "source": [
    "## Input parameters\n"
   ]
  },
  {
   "cell_type": "code",
   "execution_count": 1,
   "metadata": {},
   "outputs": [],
   "source": [
    "# tanyaMay24-trainset70shuffle2  -  DeepCut_resnetresnet_50_70shuffle2_130000forTask:tanya\n",
    "#snapshot-130000\n",
    "\n",
    "snapshot =  'snapshot-130000'\n",
    "\n",
    "shuffleIndex =  2\n",
    "\n",
    "trainFractionIndex =  0  #int(sys.argv[3])\n",
    "\n",
    "test_images_path = '/is/ps2/calvarez2/DeepLabCut/test_images/images'\n",
    "labeled_images_path = '/is/ps2/calvarez2/DeepLabCut/test_images/labeled_images'\n",
    "\n",
    "max_input_size = 1000.0"
   ]
  },
  {
   "cell_type": "markdown",
   "metadata": {},
   "source": [
    "## -------------------"
   ]
  },
  {
   "cell_type": "code",
   "execution_count": 2,
   "metadata": {},
   "outputs": [],
   "source": [
    "def homogenizeImage(image , max_input_size):\n",
    "    \n",
    "    height, width, channels = image.shape\n",
    "\n",
    "    if(bool(width * height > max_input_size*max_input_size) | bool(width > max_input_size) | bool(height > max_input_size) ):\n",
    "        factor = (max_input_size*0.9)/max(height, width)\n",
    "        image = cv2.resize(image, None, fx = factor, fy = factor, interpolation = cv2.INTER_CUBIC)\n",
    "    \n",
    "    return image"
   ]
  },
  {
   "cell_type": "code",
   "execution_count": 3,
   "metadata": {},
   "outputs": [
    {
     "name": "stdout",
     "output_type": "stream",
     "text": [
      "Starting evaluation\n"
     ]
    }
   ],
   "source": [
    "\"\"\"\n",
    "Camila modification --\n",
    "\n",
    "DeepLabCut Toolbox\n",
    "https://github.com/AlexEMG/DeepLabCut\n",
    "A Mathis, alexander.mathis@bethgelab.org\n",
    "M Mathis, mackenzie@post.harvard.edu\n",
    "This script evaluates a trained model at a particular state on the data set (images)\n",
    "and stores the results in a pandas dataframe.\n",
    "Script called from Step1_EvaluateModelonDataset.py\n",
    "\"\"\"\n",
    "\n",
    "import sys\n",
    "import os\n",
    "subfolder = os.getcwd().split('Evaluation-Tools')[0]\n",
    "sys.path.append(subfolder)\n",
    "\n",
    "\n",
    "# add parent directory: (where nnet & config are!)\n",
    "sys.path.append(subfolder + \"pose-tensorflow\")\n",
    "sys.path.append(subfolder + \"Generating_a_Training_Set\")\n",
    "\n",
    "from myconfig import Task, date, Shuffles, scorer, TrainingFraction,snapshotindex\n",
    "\n",
    "# Deep-cut dependencies\n",
    "from config import load_config\n",
    "from nnet import predict\n",
    "from dataset.pose_dataset import data_to_input\n",
    "\n",
    "# Dependencies for anaysis\n",
    "import pickle\n",
    "import skimage\n",
    "import numpy as np\n",
    "import pandas as pd\n",
    "from skimage import io\n",
    "import skimage.color\n",
    "import auxiliaryfunctions\n",
    "from tqdm import tqdm\n",
    "import matplotlib.pyplot as plt\n",
    "import cv2\n",
    "\n",
    "\n",
    "print(\"Starting evaluation\") #, sys.argv)"
   ]
  },
  {
   "cell_type": "code",
   "execution_count": 4,
   "metadata": {},
   "outputs": [],
   "source": [
    "shuffle=Shuffles[shuffleIndex]\n",
    "trainFraction=TrainingFraction[trainFractionIndex]\n",
    "\n",
    "basefolder = os.path.join('..','pose-tensorflow','models')\n",
    "folder = os.path.join('UnaugmentedDataSet_' + Task + date)"
   ]
  },
  {
   "cell_type": "code",
   "execution_count": 5,
   "metadata": {},
   "outputs": [
    {
     "name": "stdout",
     "output_type": "stream",
     "text": [
      "('Running ', 'DeepCut_resnetresnet_50_70shuffle2_130000forTask:tanya', ' with # of trainingiterations:', '130000')\n"
     ]
    }
   ],
   "source": [
    "#######################################################################\n",
    "# Load and setup CNN part detector as well as its configuration\n",
    "#######################################################################\n",
    "\n",
    "experimentname = Task + date + '-trainset' + str(int(trainFraction * 100)) + 'shuffle' + str(shuffle)\n",
    "cfg = load_config(os.path.join(basefolder , experimentname , 'test' ,\"pose_cfg.yaml\"))\n",
    "modelfolder = os.path.join(basefolder, experimentname)\n",
    "\n",
    "cfg['init_weights'] = os.path.join(modelfolder,'train',snapshot)\n",
    "\n",
    "trainingsiterations = (\n",
    "    cfg['init_weights'].split('/')[-1]).split('-')[-1]\n",
    "DLCscorer = 'DeepCut' + \"_resnet\" + str(cfg[\"net_type\"]) + \"_\" + str(\n",
    "    int(trainFraction *\n",
    "        100)) + 'shuffle' + str(shuffle) + '_' + str(trainingsiterations) + \"forTask:\" + Task\n",
    "\n",
    "print(\"Running \", DLCscorer, \" with # of trainingiterations:\", trainingsiterations)\n"
   ]
  },
  {
   "cell_type": "code",
   "execution_count": 6,
   "metadata": {
    "scrolled": true
   },
   "outputs": [
    {
     "name": "stdout",
     "output_type": "stream",
     "text": [
      "WARNING:tensorflow:From /is/ps2/calvarez2/DeepLabCut/pose-tensorflow/nnet/pose_net.py:52: calling resnet_arg_scope (from tensorflow.contrib.slim.python.slim.nets.resnet_utils) with is_training is deprecated and will be removed after 2017-08-01.\n",
      "Instructions for updating:\n",
      "Pass is_training directly to the network instead of the arg_scope.\n"
     ]
    },
    {
     "name": "stderr",
     "output_type": "stream",
     "text": [
      "WARNING:tensorflow:From /is/ps2/calvarez2/DeepLabCut/pose-tensorflow/nnet/pose_net.py:52: calling resnet_arg_scope (from tensorflow.contrib.slim.python.slim.nets.resnet_utils) with is_training is deprecated and will be removed after 2017-08-01.\n",
      "Instructions for updating:\n",
      "Pass is_training directly to the network instead of the arg_scope.\n"
     ]
    },
    {
     "name": "stdout",
     "output_type": "stream",
     "text": [
      "INFO:tensorflow:Restoring parameters from ../pose-tensorflow/models/tanyaMay24-trainset70shuffle2/train/snapshot-130000\n"
     ]
    },
    {
     "name": "stderr",
     "output_type": "stream",
     "text": [
      "INFO:tensorflow:Restoring parameters from ../pose-tensorflow/models/tanyaMay24-trainset70shuffle2/train/snapshot-130000\n",
      "0it [00:00, ?it/s]"
     ]
    },
    {
     "name": "stdout",
     "output_type": "stream",
     "text": [
      "Analyzing data...\n"
     ]
    },
    {
     "name": "stderr",
     "output_type": "stream",
     "text": [
      "\r",
      "1it [00:00,  2.17it/s]"
     ]
    },
    {
     "name": "stdout",
     "output_type": "stream",
     "text": [
      "Folder already exists!\n",
      "('Done and results stored for snapshot: ', 'snapshot-130000')\n"
     ]
    },
    {
     "name": "stderr",
     "output_type": "stream",
     "text": [
      "\r",
      "2it [00:02,  1.49s/it]"
     ]
    },
    {
     "name": "stdout",
     "output_type": "stream",
     "text": [
      "Folder already exists!\n",
      "('Done and results stored for snapshot: ', 'snapshot-130000')\n"
     ]
    },
    {
     "name": "stderr",
     "output_type": "stream",
     "text": [
      "\r",
      "3it [00:05,  1.88s/it]"
     ]
    },
    {
     "name": "stdout",
     "output_type": "stream",
     "text": [
      "Folder already exists!\n",
      "('Done and results stored for snapshot: ', 'snapshot-130000')\n"
     ]
    },
    {
     "name": "stderr",
     "output_type": "stream",
     "text": [
      "\r",
      "4it [00:09,  2.25s/it]"
     ]
    },
    {
     "name": "stdout",
     "output_type": "stream",
     "text": [
      "Folder already exists!\n",
      "('Done and results stored for snapshot: ', 'snapshot-130000')\n"
     ]
    },
    {
     "name": "stderr",
     "output_type": "stream",
     "text": [
      "\r",
      "5it [00:11,  2.36s/it]"
     ]
    },
    {
     "name": "stdout",
     "output_type": "stream",
     "text": [
      "Folder already exists!\n",
      "('Done and results stored for snapshot: ', 'snapshot-130000')\n"
     ]
    },
    {
     "name": "stderr",
     "output_type": "stream",
     "text": [
      "\r",
      "6it [00:14,  2.38s/it]"
     ]
    },
    {
     "name": "stdout",
     "output_type": "stream",
     "text": [
      "Folder already exists!\n",
      "('Done and results stored for snapshot: ', 'snapshot-130000')\n"
     ]
    },
    {
     "name": "stderr",
     "output_type": "stream",
     "text": [
      "\r",
      "7it [00:16,  2.39s/it]"
     ]
    },
    {
     "name": "stdout",
     "output_type": "stream",
     "text": [
      "Folder already exists!\n",
      "('Done and results stored for snapshot: ', 'snapshot-130000')\n"
     ]
    },
    {
     "name": "stderr",
     "output_type": "stream",
     "text": [
      "\r",
      "8it [00:19,  2.46s/it]"
     ]
    },
    {
     "name": "stdout",
     "output_type": "stream",
     "text": [
      "Folder already exists!\n",
      "('Done and results stored for snapshot: ', 'snapshot-130000')\n"
     ]
    },
    {
     "name": "stderr",
     "output_type": "stream",
     "text": [
      "\r",
      "9it [00:20,  2.27s/it]"
     ]
    },
    {
     "name": "stdout",
     "output_type": "stream",
     "text": [
      "Folder already exists!\n",
      "('Done and results stored for snapshot: ', 'snapshot-130000')\n"
     ]
    },
    {
     "name": "stderr",
     "output_type": "stream",
     "text": [
      "\r",
      "10it [00:23,  2.40s/it]"
     ]
    },
    {
     "name": "stdout",
     "output_type": "stream",
     "text": [
      "Folder already exists!\n",
      "('Done and results stored for snapshot: ', 'snapshot-130000')\n"
     ]
    },
    {
     "name": "stderr",
     "output_type": "stream",
     "text": [
      "\r",
      "11it [00:27,  2.51s/it]"
     ]
    },
    {
     "name": "stdout",
     "output_type": "stream",
     "text": [
      "Folder already exists!\n",
      "('Done and results stored for snapshot: ', 'snapshot-130000')\n"
     ]
    },
    {
     "name": "stderr",
     "output_type": "stream",
     "text": [
      "\r",
      "12it [00:30,  2.55s/it]"
     ]
    },
    {
     "name": "stdout",
     "output_type": "stream",
     "text": [
      "Folder already exists!\n",
      "('Done and results stored for snapshot: ', 'snapshot-130000')\n"
     ]
    },
    {
     "name": "stderr",
     "output_type": "stream",
     "text": [
      "\r",
      "13it [00:33,  2.54s/it]"
     ]
    },
    {
     "name": "stdout",
     "output_type": "stream",
     "text": [
      "Folder already exists!\n",
      "('Done and results stored for snapshot: ', 'snapshot-130000')\n"
     ]
    },
    {
     "name": "stderr",
     "output_type": "stream",
     "text": [
      "\r",
      "14it [00:36,  2.59s/it]"
     ]
    },
    {
     "name": "stdout",
     "output_type": "stream",
     "text": [
      "Folder already exists!\n",
      "('Done and results stored for snapshot: ', 'snapshot-130000')\n"
     ]
    },
    {
     "name": "stderr",
     "output_type": "stream",
     "text": [
      "\r",
      "15it [00:38,  2.60s/it]"
     ]
    },
    {
     "name": "stdout",
     "output_type": "stream",
     "text": [
      "Folder already exists!\n",
      "('Done and results stored for snapshot: ', 'snapshot-130000')\n"
     ]
    },
    {
     "name": "stderr",
     "output_type": "stream",
     "text": [
      "\r",
      "16it [00:42,  2.64s/it]"
     ]
    },
    {
     "name": "stdout",
     "output_type": "stream",
     "text": [
      "Folder already exists!\n",
      "('Done and results stored for snapshot: ', 'snapshot-130000')\n"
     ]
    },
    {
     "name": "stderr",
     "output_type": "stream",
     "text": [
      "\r",
      "17it [00:43,  2.57s/it]"
     ]
    },
    {
     "name": "stdout",
     "output_type": "stream",
     "text": [
      "Folder already exists!\n",
      "('Done and results stored for snapshot: ', 'snapshot-130000')\n"
     ]
    },
    {
     "name": "stderr",
     "output_type": "stream",
     "text": [
      "\r",
      "18it [00:44,  2.49s/it]"
     ]
    },
    {
     "name": "stdout",
     "output_type": "stream",
     "text": [
      "Folder already exists!\n",
      "('Done and results stored for snapshot: ', 'snapshot-130000')\n"
     ]
    },
    {
     "name": "stderr",
     "output_type": "stream",
     "text": [
      "\r",
      "19it [00:45,  2.42s/it]"
     ]
    },
    {
     "name": "stdout",
     "output_type": "stream",
     "text": [
      "Folder already exists!\n",
      "('Done and results stored for snapshot: ', 'snapshot-130000')\n"
     ]
    },
    {
     "name": "stderr",
     "output_type": "stream",
     "text": [
      "\r",
      "20it [00:47,  2.36s/it]"
     ]
    },
    {
     "name": "stdout",
     "output_type": "stream",
     "text": [
      "Folder already exists!\n",
      "('Done and results stored for snapshot: ', 'snapshot-130000')\n"
     ]
    },
    {
     "name": "stderr",
     "output_type": "stream",
     "text": [
      "\r",
      "21it [00:49,  2.37s/it]"
     ]
    },
    {
     "name": "stdout",
     "output_type": "stream",
     "text": [
      "Folder already exists!\n",
      "('Done and results stored for snapshot: ', 'snapshot-130000')\n"
     ]
    },
    {
     "name": "stderr",
     "output_type": "stream",
     "text": [
      "\r",
      "22it [00:53,  2.43s/it]"
     ]
    },
    {
     "name": "stdout",
     "output_type": "stream",
     "text": [
      "Folder already exists!\n",
      "('Done and results stored for snapshot: ', 'snapshot-130000')\n"
     ]
    },
    {
     "name": "stderr",
     "output_type": "stream",
     "text": [
      "\r",
      "23it [00:57,  2.48s/it]"
     ]
    },
    {
     "name": "stdout",
     "output_type": "stream",
     "text": [
      "Folder already exists!\n",
      "('Done and results stored for snapshot: ', 'snapshot-130000')\n"
     ]
    },
    {
     "name": "stderr",
     "output_type": "stream",
     "text": [
      "\r",
      "24it [01:00,  2.52s/it]"
     ]
    },
    {
     "name": "stdout",
     "output_type": "stream",
     "text": [
      "Folder already exists!\n",
      "('Done and results stored for snapshot: ', 'snapshot-130000')\n"
     ]
    },
    {
     "name": "stderr",
     "output_type": "stream",
     "text": [
      "\n"
     ]
    }
   ],
   "source": [
    "try:\n",
    "    Data = pd.read_hdf(os.path.join(\"Results\",DLCscorer + '.h5'),'df_with_missing')\n",
    "    print(\"This net has already been evaluated!\")\n",
    "except :\n",
    "    # Specifying state of model (snapshot / training state)\n",
    "    cfg['init_weights'] = os.path.join(modelfolder,'train',snapshot)\n",
    "    \n",
    "    sess, inputs, outputs = predict.setup_pose_prediction(cfg)\n",
    "    \n",
    "    \n",
    "    images_names = os.listdir(test_images_path)\n",
    "    \n",
    "    Numimages = len(images_names) #len(Data.index)\n",
    "    PredicteData = np.zeros((Numimages,3 * len(cfg['all_joints_names'])))\n",
    "    Testset = np.zeros(Numimages)\n",
    "    \n",
    "    print(\"Analyzing data...\")\n",
    "    \n",
    "    ##################################################\n",
    "    # Compute predictions over images\n",
    "    ##################################################\n",
    "    \n",
    "    for imageindex, imagename in tqdm(enumerate(images_names)):\n",
    "        image = io.imread(os.path.join(test_images_path, imagename),mode='RGB')\n",
    "        image = skimage.color.gray2rgb(image)\n",
    "        \n",
    "        image = homogenizeImage(image, max_input_size)\n",
    "        \n",
    "        image_batch = data_to_input(image)\n",
    "        \n",
    "        \n",
    "        # Compute prediction with the CNN\n",
    "        outputs_np = sess.run(outputs, feed_dict={inputs: image_batch})\n",
    "        scmap, locref = predict.extract_cnn_output(outputs_np, cfg)\n",
    "        \n",
    "        # Extract maximum scoring location from the heatmap, assume 1 person\n",
    "        pose = predict.argmax_pose_predict(scmap, locref, cfg.stride)\n",
    "        PredicteData[imageindex, :] = pose.flatten(\n",
    "        )  # NOTE: thereby     cfg_test['all_joints_names'] should be same order as bodyparts!\n",
    "      \n",
    "        index = pd.MultiIndex.from_product(\n",
    "            [[DLCscorer], cfg['all_joints_names'], ['x', 'y', 'likelihood']],\n",
    "            names=['scorer', 'bodyparts', 'coords'])\n",
    "\n",
    "        # Saving results:\n",
    "        auxiliaryfunctions.attempttomakefolder(\"Results\")\n",
    "\n",
    "        DataMachine = pd.DataFrame(\n",
    "            PredicteData, columns=index, index= images_names )\n",
    "        DataMachine.to_hdf(os.path.join(\"Results\",'Test_sample_'+DLCscorer + '.h5'),'df_with_missing',format='table',mode='w')\n",
    "        print(\"Done and results stored for snapshot: \", snapshot)        \n",
    "\n",
    "        "
   ]
  },
  {
   "cell_type": "code",
   "execution_count": 7,
   "metadata": {},
   "outputs": [
    {
     "data": {
      "text/plain": [
       "<matplotlib.image.AxesImage at 0x7ff4db8efa90>"
      ]
     },
     "execution_count": 7,
     "metadata": {},
     "output_type": "execute_result"
    },
    {
     "data": {
      "image/png": "[encoded data removed]",
      "text/plain": [
       "<matplotlib.figure.Figure at 0x7ff5113fbc50>"
      ]
     },
     "metadata": {},
     "output_type": "display_data"
    }
   ],
   "source": [
    "#score-map example\n",
    "\n",
    "plt.imshow(scmap[:,:,-1])#.shape"
   ]
  },
  {
   "cell_type": "code",
   "execution_count": 8,
   "metadata": {},
   "outputs": [
    {
     "data": {
      "text/html": [
       "<div>\n",
       "<style scoped>\n",
       "    .dataframe tbody tr th:only-of-type {\n",
       "        vertical-align: middle;\n",
       "    }\n",
       "\n",
       "    .dataframe tbody tr th {\n",
       "        vertical-align: top;\n",
       "    }\n",
       "\n",
       "    .dataframe thead tr th {\n",
       "        text-align: left;\n",
       "    }\n",
       "</style>\n",
       "<table border=\"1\" class=\"dataframe\">\n",
       "  <thead>\n",
       "    <tr>\n",
       "      <th>scorer</th>\n",
       "      <th colspan=\"21\" halign=\"left\">DeepCut_resnetresnet_50_70shuffle2_130000forTask:tanya</th>\n",
       "    </tr>\n",
       "    <tr>\n",
       "      <th>bodyparts</th>\n",
       "      <th colspan=\"3\" halign=\"left\">tail tip</th>\n",
       "      <th colspan=\"3\" halign=\"left\">back right shoulder</th>\n",
       "      <th colspan=\"3\" halign=\"left\">tail start</th>\n",
       "      <th>front left knee</th>\n",
       "      <th>...</th>\n",
       "      <th>back right foot</th>\n",
       "      <th colspan=\"3\" halign=\"left\">back left knee</th>\n",
       "      <th colspan=\"3\" halign=\"left\">right ear</th>\n",
       "      <th colspan=\"3\" halign=\"left\">back left ankle</th>\n",
       "    </tr>\n",
       "    <tr>\n",
       "      <th>coords</th>\n",
       "      <th>x</th>\n",
       "      <th>y</th>\n",
       "      <th>likelihood</th>\n",
       "      <th>x</th>\n",
       "      <th>y</th>\n",
       "      <th>likelihood</th>\n",
       "      <th>x</th>\n",
       "      <th>y</th>\n",
       "      <th>likelihood</th>\n",
       "      <th>x</th>\n",
       "      <th>...</th>\n",
       "      <th>likelihood</th>\n",
       "      <th>x</th>\n",
       "      <th>y</th>\n",
       "      <th>likelihood</th>\n",
       "      <th>x</th>\n",
       "      <th>y</th>\n",
       "      <th>likelihood</th>\n",
       "      <th>x</th>\n",
       "      <th>y</th>\n",
       "      <th>likelihood</th>\n",
       "    </tr>\n",
       "  </thead>\n",
       "  <tbody>\n",
       "    <tr>\n",
       "      <th>download.jpeg</th>\n",
       "      <td>245.382314</td>\n",
       "      <td>100.015515</td>\n",
       "      <td>0.265371</td>\n",
       "      <td>185.128764</td>\n",
       "      <td>74.701450</td>\n",
       "      <td>0.395936</td>\n",
       "      <td>223.865395</td>\n",
       "      <td>50.322141</td>\n",
       "      <td>0.096255</td>\n",
       "      <td>121.818413</td>\n",
       "      <td>...</td>\n",
       "      <td>0.118286</td>\n",
       "      <td>231.784287</td>\n",
       "      <td>113.234203</td>\n",
       "      <td>0.014248</td>\n",
       "      <td>61.343496</td>\n",
       "      <td>11.453466</td>\n",
       "      <td>0.084508</td>\n",
       "      <td>175.521054</td>\n",
       "      <td>153.814431</td>\n",
       "      <td>0.027130</td>\n",
       "    </tr>\n",
       "    <tr>\n",
       "      <th>frame00.png</th>\n",
       "      <td>409.653399</td>\n",
       "      <td>344.335858</td>\n",
       "      <td>0.986123</td>\n",
       "      <td>443.690578</td>\n",
       "      <td>329.763583</td>\n",
       "      <td>0.985115</td>\n",
       "      <td>419.713851</td>\n",
       "      <td>300.987462</td>\n",
       "      <td>0.985115</td>\n",
       "      <td>487.435946</td>\n",
       "      <td>...</td>\n",
       "      <td>0.993838</td>\n",
       "      <td>436.571661</td>\n",
       "      <td>359.365819</td>\n",
       "      <td>0.999783</td>\n",
       "      <td>495.330883</td>\n",
       "      <td>272.651004</td>\n",
       "      <td>0.999657</td>\n",
       "      <td>436.012751</td>\n",
       "      <td>375.224008</td>\n",
       "      <td>0.999488</td>\n",
       "    </tr>\n",
       "    <tr>\n",
       "      <th>frame016.png</th>\n",
       "      <td>345.447286</td>\n",
       "      <td>437.938697</td>\n",
       "      <td>0.801735</td>\n",
       "      <td>456.827526</td>\n",
       "      <td>376.762305</td>\n",
       "      <td>0.351175</td>\n",
       "      <td>389.137238</td>\n",
       "      <td>273.189516</td>\n",
       "      <td>0.999952</td>\n",
       "      <td>711.372273</td>\n",
       "      <td>...</td>\n",
       "      <td>0.243947</td>\n",
       "      <td>426.258570</td>\n",
       "      <td>455.421768</td>\n",
       "      <td>0.521080</td>\n",
       "      <td>794.394336</td>\n",
       "      <td>122.110314</td>\n",
       "      <td>0.919876</td>\n",
       "      <td>346.732059</td>\n",
       "      <td>445.309913</td>\n",
       "      <td>0.012455</td>\n",
       "    </tr>\n",
       "    <tr>\n",
       "      <th>download_1.jpeg</th>\n",
       "      <td>182.991818</td>\n",
       "      <td>129.773888</td>\n",
       "      <td>0.004649</td>\n",
       "      <td>581.161187</td>\n",
       "      <td>368.587718</td>\n",
       "      <td>0.133978</td>\n",
       "      <td>489.237836</td>\n",
       "      <td>203.015869</td>\n",
       "      <td>0.047165</td>\n",
       "      <td>314.874006</td>\n",
       "      <td>...</td>\n",
       "      <td>0.021963</td>\n",
       "      <td>308.864642</td>\n",
       "      <td>510.295026</td>\n",
       "      <td>0.012532</td>\n",
       "      <td>193.412942</td>\n",
       "      <td>34.499787</td>\n",
       "      <td>0.200285</td>\n",
       "      <td>591.278532</td>\n",
       "      <td>590.505281</td>\n",
       "      <td>0.002738</td>\n",
       "    </tr>\n",
       "    <tr>\n",
       "      <th>frame012.png</th>\n",
       "      <td>250.050287</td>\n",
       "      <td>407.790377</td>\n",
       "      <td>0.993865</td>\n",
       "      <td>360.458509</td>\n",
       "      <td>370.573653</td>\n",
       "      <td>0.384293</td>\n",
       "      <td>282.977425</td>\n",
       "      <td>307.040379</td>\n",
       "      <td>0.998956</td>\n",
       "      <td>554.278966</td>\n",
       "      <td>...</td>\n",
       "      <td>0.668956</td>\n",
       "      <td>550.045852</td>\n",
       "      <td>439.395160</td>\n",
       "      <td>0.744591</td>\n",
       "      <td>642.572308</td>\n",
       "      <td>240.871221</td>\n",
       "      <td>0.980358</td>\n",
       "      <td>562.638703</td>\n",
       "      <td>488.257367</td>\n",
       "      <td>0.534499</td>\n",
       "    </tr>\n",
       "    <tr>\n",
       "      <th>frame018.png</th>\n",
       "      <td>417.062585</td>\n",
       "      <td>404.873542</td>\n",
       "      <td>0.999113</td>\n",
       "      <td>429.932432</td>\n",
       "      <td>334.674239</td>\n",
       "      <td>0.977192</td>\n",
       "      <td>416.980121</td>\n",
       "      <td>292.802114</td>\n",
       "      <td>0.168163</td>\n",
       "      <td>603.450896</td>\n",
       "      <td>...</td>\n",
       "      <td>0.910618</td>\n",
       "      <td>460.396295</td>\n",
       "      <td>421.092993</td>\n",
       "      <td>0.976532</td>\n",
       "      <td>556.196055</td>\n",
       "      <td>174.782155</td>\n",
       "      <td>0.735640</td>\n",
       "      <td>454.128862</td>\n",
       "      <td>496.592939</td>\n",
       "      <td>0.135314</td>\n",
       "    </tr>\n",
       "    <tr>\n",
       "      <th>frame068.png</th>\n",
       "      <td>279.147069</td>\n",
       "      <td>385.129313</td>\n",
       "      <td>0.991591</td>\n",
       "      <td>361.292077</td>\n",
       "      <td>343.213976</td>\n",
       "      <td>0.299136</td>\n",
       "      <td>310.241287</td>\n",
       "      <td>309.044729</td>\n",
       "      <td>0.999852</td>\n",
       "      <td>450.966579</td>\n",
       "      <td>...</td>\n",
       "      <td>0.334986</td>\n",
       "      <td>318.325034</td>\n",
       "      <td>408.406431</td>\n",
       "      <td>0.733248</td>\n",
       "      <td>580.133397</td>\n",
       "      <td>258.050820</td>\n",
       "      <td>0.990805</td>\n",
       "      <td>324.402023</td>\n",
       "      <td>443.810506</td>\n",
       "      <td>0.978228</td>\n",
       "    </tr>\n",
       "    <tr>\n",
       "      <th>down_3.jpeg</th>\n",
       "      <td>195.184207</td>\n",
       "      <td>405.002849</td>\n",
       "      <td>0.758334</td>\n",
       "      <td>255.898964</td>\n",
       "      <td>299.718558</td>\n",
       "      <td>0.124055</td>\n",
       "      <td>185.465981</td>\n",
       "      <td>200.396163</td>\n",
       "      <td>0.898119</td>\n",
       "      <td>470.233615</td>\n",
       "      <td>...</td>\n",
       "      <td>0.048603</td>\n",
       "      <td>217.569190</td>\n",
       "      <td>432.552882</td>\n",
       "      <td>0.558774</td>\n",
       "      <td>723.676527</td>\n",
       "      <td>325.415117</td>\n",
       "      <td>0.363524</td>\n",
       "      <td>220.209519</td>\n",
       "      <td>496.152985</td>\n",
       "      <td>0.036924</td>\n",
       "    </tr>\n",
       "    <tr>\n",
       "      <th>down_2.jpg</th>\n",
       "      <td>65.970319</td>\n",
       "      <td>280.404029</td>\n",
       "      <td>0.777394</td>\n",
       "      <td>123.080457</td>\n",
       "      <td>221.616029</td>\n",
       "      <td>0.962826</td>\n",
       "      <td>83.110968</td>\n",
       "      <td>167.793928</td>\n",
       "      <td>0.878578</td>\n",
       "      <td>272.421529</td>\n",
       "      <td>...</td>\n",
       "      <td>0.324584</td>\n",
       "      <td>91.617234</td>\n",
       "      <td>265.511842</td>\n",
       "      <td>0.532516</td>\n",
       "      <td>305.218137</td>\n",
       "      <td>107.845413</td>\n",
       "      <td>0.935421</td>\n",
       "      <td>85.503410</td>\n",
       "      <td>314.239692</td>\n",
       "      <td>0.953583</td>\n",
       "    </tr>\n",
       "    <tr>\n",
       "      <th>down_4.jpg</th>\n",
       "      <td>149.593805</td>\n",
       "      <td>515.811413</td>\n",
       "      <td>0.999925</td>\n",
       "      <td>188.280128</td>\n",
       "      <td>389.325397</td>\n",
       "      <td>0.938528</td>\n",
       "      <td>127.756202</td>\n",
       "      <td>257.835569</td>\n",
       "      <td>0.201454</td>\n",
       "      <td>543.183699</td>\n",
       "      <td>...</td>\n",
       "      <td>0.002149</td>\n",
       "      <td>441.173550</td>\n",
       "      <td>589.662492</td>\n",
       "      <td>0.037847</td>\n",
       "      <td>534.331282</td>\n",
       "      <td>81.342836</td>\n",
       "      <td>0.887963</td>\n",
       "      <td>297.877733</td>\n",
       "      <td>713.618015</td>\n",
       "      <td>0.180414</td>\n",
       "    </tr>\n",
       "    <tr>\n",
       "      <th>frame080_0.png</th>\n",
       "      <td>764.547743</td>\n",
       "      <td>265.467260</td>\n",
       "      <td>0.252207</td>\n",
       "      <td>107.872085</td>\n",
       "      <td>314.612177</td>\n",
       "      <td>0.516510</td>\n",
       "      <td>690.766009</td>\n",
       "      <td>178.855578</td>\n",
       "      <td>0.969351</td>\n",
       "      <td>317.965002</td>\n",
       "      <td>...</td>\n",
       "      <td>0.054283</td>\n",
       "      <td>680.359723</td>\n",
       "      <td>612.199921</td>\n",
       "      <td>0.785285</td>\n",
       "      <td>60.077323</td>\n",
       "      <td>245.047872</td>\n",
       "      <td>0.003008</td>\n",
       "      <td>321.044654</td>\n",
       "      <td>749.086140</td>\n",
       "      <td>0.666077</td>\n",
       "    </tr>\n",
       "    <tr>\n",
       "      <th>frame080_1.png</th>\n",
       "      <td>605.425808</td>\n",
       "      <td>592.604443</td>\n",
       "      <td>0.966933</td>\n",
       "      <td>239.044755</td>\n",
       "      <td>406.473053</td>\n",
       "      <td>0.488624</td>\n",
       "      <td>627.584578</td>\n",
       "      <td>228.635440</td>\n",
       "      <td>0.999324</td>\n",
       "      <td>411.438223</td>\n",
       "      <td>...</td>\n",
       "      <td>0.312187</td>\n",
       "      <td>586.876875</td>\n",
       "      <td>612.622630</td>\n",
       "      <td>0.737039</td>\n",
       "      <td>528.466665</td>\n",
       "      <td>343.776227</td>\n",
       "      <td>0.005238</td>\n",
       "      <td>278.408256</td>\n",
       "      <td>796.515538</td>\n",
       "      <td>0.429330</td>\n",
       "    </tr>\n",
       "    <tr>\n",
       "      <th>frame0157_0.png</th>\n",
       "      <td>513.543609</td>\n",
       "      <td>453.951082</td>\n",
       "      <td>0.034321</td>\n",
       "      <td>785.192989</td>\n",
       "      <td>289.269589</td>\n",
       "      <td>0.992581</td>\n",
       "      <td>702.743649</td>\n",
       "      <td>285.879409</td>\n",
       "      <td>0.030728</td>\n",
       "      <td>406.225124</td>\n",
       "      <td>...</td>\n",
       "      <td>0.951566</td>\n",
       "      <td>78.093972</td>\n",
       "      <td>385.730909</td>\n",
       "      <td>0.054877</td>\n",
       "      <td>498.214136</td>\n",
       "      <td>355.727152</td>\n",
       "      <td>0.145874</td>\n",
       "      <td>536.034438</td>\n",
       "      <td>519.225642</td>\n",
       "      <td>0.905038</td>\n",
       "    </tr>\n",
       "    <tr>\n",
       "      <th>frame0157_1.png</th>\n",
       "      <td>603.080955</td>\n",
       "      <td>570.275541</td>\n",
       "      <td>0.334576</td>\n",
       "      <td>239.639673</td>\n",
       "      <td>517.422320</td>\n",
       "      <td>0.987121</td>\n",
       "      <td>607.587945</td>\n",
       "      <td>399.321811</td>\n",
       "      <td>0.332258</td>\n",
       "      <td>448.728738</td>\n",
       "      <td>...</td>\n",
       "      <td>0.979748</td>\n",
       "      <td>668.649792</td>\n",
       "      <td>699.644003</td>\n",
       "      <td>0.078814</td>\n",
       "      <td>208.711133</td>\n",
       "      <td>430.060568</td>\n",
       "      <td>0.051495</td>\n",
       "      <td>624.456303</td>\n",
       "      <td>762.852880</td>\n",
       "      <td>0.019139</td>\n",
       "    </tr>\n",
       "    <tr>\n",
       "      <th>frame0157_2.png</th>\n",
       "      <td>316.336823</td>\n",
       "      <td>868.800178</td>\n",
       "      <td>0.500355</td>\n",
       "      <td>370.068113</td>\n",
       "      <td>621.304640</td>\n",
       "      <td>0.989374</td>\n",
       "      <td>394.235299</td>\n",
       "      <td>594.778566</td>\n",
       "      <td>0.018132</td>\n",
       "      <td>172.818291</td>\n",
       "      <td>...</td>\n",
       "      <td>0.625815</td>\n",
       "      <td>405.343187</td>\n",
       "      <td>720.057337</td>\n",
       "      <td>0.982550</td>\n",
       "      <td>559.184041</td>\n",
       "      <td>115.918667</td>\n",
       "      <td>0.234600</td>\n",
       "      <td>434.304705</td>\n",
       "      <td>786.536373</td>\n",
       "      <td>0.851322</td>\n",
       "    </tr>\n",
       "    <tr>\n",
       "      <th>frame0157_3.png</th>\n",
       "      <td>790.336275</td>\n",
       "      <td>787.670932</td>\n",
       "      <td>0.621141</td>\n",
       "      <td>474.349469</td>\n",
       "      <td>652.311032</td>\n",
       "      <td>0.985497</td>\n",
       "      <td>415.863025</td>\n",
       "      <td>609.028595</td>\n",
       "      <td>0.134326</td>\n",
       "      <td>738.808637</td>\n",
       "      <td>...</td>\n",
       "      <td>0.243599</td>\n",
       "      <td>546.315132</td>\n",
       "      <td>585.303138</td>\n",
       "      <td>0.002858</td>\n",
       "      <td>546.405499</td>\n",
       "      <td>573.204346</td>\n",
       "      <td>0.100182</td>\n",
       "      <td>819.130762</td>\n",
       "      <td>799.156314</td>\n",
       "      <td>0.014098</td>\n",
       "    </tr>\n",
       "    <tr>\n",
       "      <th>frame0157_4.png</th>\n",
       "      <td>244.470489</td>\n",
       "      <td>215.016271</td>\n",
       "      <td>0.001174</td>\n",
       "      <td>443.914761</td>\n",
       "      <td>331.083973</td>\n",
       "      <td>0.021092</td>\n",
       "      <td>528.368144</td>\n",
       "      <td>168.063444</td>\n",
       "      <td>0.000419</td>\n",
       "      <td>361.010519</td>\n",
       "      <td>...</td>\n",
       "      <td>0.000254</td>\n",
       "      <td>443.104615</td>\n",
       "      <td>252.761862</td>\n",
       "      <td>0.000011</td>\n",
       "      <td>557.213935</td>\n",
       "      <td>347.069818</td>\n",
       "      <td>0.000038</td>\n",
       "      <td>411.400459</td>\n",
       "      <td>305.574306</td>\n",
       "      <td>0.000369</td>\n",
       "    </tr>\n",
       "    <tr>\n",
       "      <th>frame015_1.png</th>\n",
       "      <td>209.627857</td>\n",
       "      <td>166.910273</td>\n",
       "      <td>0.058940</td>\n",
       "      <td>119.684728</td>\n",
       "      <td>395.804502</td>\n",
       "      <td>0.007197</td>\n",
       "      <td>193.354604</td>\n",
       "      <td>459.369980</td>\n",
       "      <td>0.000156</td>\n",
       "      <td>56.381236</td>\n",
       "      <td>...</td>\n",
       "      <td>0.000042</td>\n",
       "      <td>224.757403</td>\n",
       "      <td>168.120463</td>\n",
       "      <td>0.000069</td>\n",
       "      <td>79.227770</td>\n",
       "      <td>863.497437</td>\n",
       "      <td>0.000748</td>\n",
       "      <td>77.772906</td>\n",
       "      <td>873.175436</td>\n",
       "      <td>0.000067</td>\n",
       "    </tr>\n",
       "    <tr>\n",
       "      <th>frame023_4.png</th>\n",
       "      <td>524.867228</td>\n",
       "      <td>64.984914</td>\n",
       "      <td>0.000575</td>\n",
       "      <td>-0.789176</td>\n",
       "      <td>126.750528</td>\n",
       "      <td>0.000471</td>\n",
       "      <td>534.814485</td>\n",
       "      <td>67.564639</td>\n",
       "      <td>0.002793</td>\n",
       "      <td>-6.466188</td>\n",
       "      <td>...</td>\n",
       "      <td>0.000150</td>\n",
       "      <td>-7.452257</td>\n",
       "      <td>-0.841051</td>\n",
       "      <td>0.000183</td>\n",
       "      <td>537.536792</td>\n",
       "      <td>55.288041</td>\n",
       "      <td>0.002057</td>\n",
       "      <td>200.274599</td>\n",
       "      <td>277.358997</td>\n",
       "      <td>0.000072</td>\n",
       "    </tr>\n",
       "    <tr>\n",
       "      <th>frame083_1.png</th>\n",
       "      <td>192.807184</td>\n",
       "      <td>594.375441</td>\n",
       "      <td>0.186980</td>\n",
       "      <td>236.025045</td>\n",
       "      <td>196.202442</td>\n",
       "      <td>0.830590</td>\n",
       "      <td>114.807346</td>\n",
       "      <td>150.423682</td>\n",
       "      <td>0.996504</td>\n",
       "      <td>210.664013</td>\n",
       "      <td>...</td>\n",
       "      <td>0.752603</td>\n",
       "      <td>47.182437</td>\n",
       "      <td>706.032170</td>\n",
       "      <td>0.484188</td>\n",
       "      <td>1.340317</td>\n",
       "      <td>891.707950</td>\n",
       "      <td>0.016515</td>\n",
       "      <td>48.909739</td>\n",
       "      <td>845.882272</td>\n",
       "      <td>0.000686</td>\n",
       "    </tr>\n",
       "    <tr>\n",
       "      <th>frame018_0.png</th>\n",
       "      <td>25.869881</td>\n",
       "      <td>572.830355</td>\n",
       "      <td>0.197711</td>\n",
       "      <td>168.166083</td>\n",
       "      <td>488.083170</td>\n",
       "      <td>0.401404</td>\n",
       "      <td>42.006560</td>\n",
       "      <td>265.546865</td>\n",
       "      <td>0.516264</td>\n",
       "      <td>478.272154</td>\n",
       "      <td>...</td>\n",
       "      <td>0.639539</td>\n",
       "      <td>97.696353</td>\n",
       "      <td>635.468880</td>\n",
       "      <td>0.223801</td>\n",
       "      <td>359.659944</td>\n",
       "      <td>21.678053</td>\n",
       "      <td>0.784334</td>\n",
       "      <td>371.682374</td>\n",
       "      <td>823.470304</td>\n",
       "      <td>0.015783</td>\n",
       "    </tr>\n",
       "    <tr>\n",
       "      <th>frame0100_0.png</th>\n",
       "      <td>871.834779</td>\n",
       "      <td>577.512818</td>\n",
       "      <td>0.896716</td>\n",
       "      <td>683.611337</td>\n",
       "      <td>508.363767</td>\n",
       "      <td>0.301735</td>\n",
       "      <td>817.573933</td>\n",
       "      <td>293.126086</td>\n",
       "      <td>0.999952</td>\n",
       "      <td>254.310640</td>\n",
       "      <td>...</td>\n",
       "      <td>0.057572</td>\n",
       "      <td>772.580203</td>\n",
       "      <td>619.078758</td>\n",
       "      <td>0.149980</td>\n",
       "      <td>169.361846</td>\n",
       "      <td>41.128702</td>\n",
       "      <td>0.207095</td>\n",
       "      <td>302.216480</td>\n",
       "      <td>733.256270</td>\n",
       "      <td>0.481931</td>\n",
       "    </tr>\n",
       "    <tr>\n",
       "      <th>frame021_0.png</th>\n",
       "      <td>866.424254</td>\n",
       "      <td>599.385886</td>\n",
       "      <td>0.962213</td>\n",
       "      <td>722.146224</td>\n",
       "      <td>467.296521</td>\n",
       "      <td>0.823286</td>\n",
       "      <td>837.539532</td>\n",
       "      <td>277.368887</td>\n",
       "      <td>0.999164</td>\n",
       "      <td>755.140234</td>\n",
       "      <td>...</td>\n",
       "      <td>0.665801</td>\n",
       "      <td>828.904736</td>\n",
       "      <td>607.467065</td>\n",
       "      <td>0.758898</td>\n",
       "      <td>49.676795</td>\n",
       "      <td>67.502878</td>\n",
       "      <td>0.066308</td>\n",
       "      <td>748.416492</td>\n",
       "      <td>807.903528</td>\n",
       "      <td>0.486178</td>\n",
       "    </tr>\n",
       "    <tr>\n",
       "      <th>frame070_0.png</th>\n",
       "      <td>24.388112</td>\n",
       "      <td>554.851141</td>\n",
       "      <td>0.520865</td>\n",
       "      <td>168.968230</td>\n",
       "      <td>399.749797</td>\n",
       "      <td>0.561224</td>\n",
       "      <td>745.852743</td>\n",
       "      <td>62.474946</td>\n",
       "      <td>0.001274</td>\n",
       "      <td>182.367523</td>\n",
       "      <td>...</td>\n",
       "      <td>0.087117</td>\n",
       "      <td>175.686734</td>\n",
       "      <td>590.365686</td>\n",
       "      <td>0.810114</td>\n",
       "      <td>736.370158</td>\n",
       "      <td>51.088039</td>\n",
       "      <td>0.999587</td>\n",
       "      <td>170.687669</td>\n",
       "      <td>769.857588</td>\n",
       "      <td>0.168804</td>\n",
       "    </tr>\n",
       "  </tbody>\n",
       "</table>\n",
       "<p>24 rows × 75 columns</p>\n",
       "</div>"
      ],
      "text/plain": [
       "scorer          DeepCut_resnetresnet_50_70shuffle2_130000forTask:tanya  \\\n",
       "bodyparts                                                     tail tip   \n",
       "coords                                                               x   \n",
       "download.jpeg                                           245.382314       \n",
       "frame00.png                                             409.653399       \n",
       "frame016.png                                            345.447286       \n",
       "download_1.jpeg                                         182.991818       \n",
       "frame012.png                                            250.050287       \n",
       "frame018.png                                            417.062585       \n",
       "frame068.png                                            279.147069       \n",
       "down_3.jpeg                                             195.184207       \n",
       "down_2.jpg                                               65.970319       \n",
       "down_4.jpg                                              149.593805       \n",
       "frame080_0.png                                          764.547743       \n",
       "frame080_1.png                                          605.425808       \n",
       "frame0157_0.png                                         513.543609       \n",
       "frame0157_1.png                                         603.080955       \n",
       "frame0157_2.png                                         316.336823       \n",
       "frame0157_3.png                                         790.336275       \n",
       "frame0157_4.png                                         244.470489       \n",
       "frame015_1.png                                          209.627857       \n",
       "frame023_4.png                                          524.867228       \n",
       "frame083_1.png                                          192.807184       \n",
       "frame018_0.png                                           25.869881       \n",
       "frame0100_0.png                                         871.834779       \n",
       "frame021_0.png                                          866.424254       \n",
       "frame070_0.png                                           24.388112       \n",
       "\n",
       "scorer                                                                  \\\n",
       "bodyparts                              back right shoulder               \n",
       "coords                    y likelihood                   x           y   \n",
       "download.jpeg    100.015515   0.265371          185.128764   74.701450   \n",
       "frame00.png      344.335858   0.986123          443.690578  329.763583   \n",
       "frame016.png     437.938697   0.801735          456.827526  376.762305   \n",
       "download_1.jpeg  129.773888   0.004649          581.161187  368.587718   \n",
       "frame012.png     407.790377   0.993865          360.458509  370.573653   \n",
       "frame018.png     404.873542   0.999113          429.932432  334.674239   \n",
       "frame068.png     385.129313   0.991591          361.292077  343.213976   \n",
       "down_3.jpeg      405.002849   0.758334          255.898964  299.718558   \n",
       "down_2.jpg       280.404029   0.777394          123.080457  221.616029   \n",
       "down_4.jpg       515.811413   0.999925          188.280128  389.325397   \n",
       "frame080_0.png   265.467260   0.252207          107.872085  314.612177   \n",
       "frame080_1.png   592.604443   0.966933          239.044755  406.473053   \n",
       "frame0157_0.png  453.951082   0.034321          785.192989  289.269589   \n",
       "frame0157_1.png  570.275541   0.334576          239.639673  517.422320   \n",
       "frame0157_2.png  868.800178   0.500355          370.068113  621.304640   \n",
       "frame0157_3.png  787.670932   0.621141          474.349469  652.311032   \n",
       "frame0157_4.png  215.016271   0.001174          443.914761  331.083973   \n",
       "frame015_1.png   166.910273   0.058940          119.684728  395.804502   \n",
       "frame023_4.png    64.984914   0.000575           -0.789176  126.750528   \n",
       "frame083_1.png   594.375441   0.186980          236.025045  196.202442   \n",
       "frame018_0.png   572.830355   0.197711          168.166083  488.083170   \n",
       "frame0100_0.png  577.512818   0.896716          683.611337  508.363767   \n",
       "frame021_0.png   599.385886   0.962213          722.146224  467.296521   \n",
       "frame070_0.png   554.851141   0.520865          168.968230  399.749797   \n",
       "\n",
       "scorer                                                                         \\\n",
       "bodyparts                   tail start                        front left knee   \n",
       "coords          likelihood           x           y likelihood               x   \n",
       "download.jpeg     0.395936  223.865395   50.322141   0.096255      121.818413   \n",
       "frame00.png       0.985115  419.713851  300.987462   0.985115      487.435946   \n",
       "frame016.png      0.351175  389.137238  273.189516   0.999952      711.372273   \n",
       "download_1.jpeg   0.133978  489.237836  203.015869   0.047165      314.874006   \n",
       "frame012.png      0.384293  282.977425  307.040379   0.998956      554.278966   \n",
       "frame018.png      0.977192  416.980121  292.802114   0.168163      603.450896   \n",
       "frame068.png      0.299136  310.241287  309.044729   0.999852      450.966579   \n",
       "down_3.jpeg       0.124055  185.465981  200.396163   0.898119      470.233615   \n",
       "down_2.jpg        0.962826   83.110968  167.793928   0.878578      272.421529   \n",
       "down_4.jpg        0.938528  127.756202  257.835569   0.201454      543.183699   \n",
       "frame080_0.png    0.516510  690.766009  178.855578   0.969351      317.965002   \n",
       "frame080_1.png    0.488624  627.584578  228.635440   0.999324      411.438223   \n",
       "frame0157_0.png   0.992581  702.743649  285.879409   0.030728      406.225124   \n",
       "frame0157_1.png   0.987121  607.587945  399.321811   0.332258      448.728738   \n",
       "frame0157_2.png   0.989374  394.235299  594.778566   0.018132      172.818291   \n",
       "frame0157_3.png   0.985497  415.863025  609.028595   0.134326      738.808637   \n",
       "frame0157_4.png   0.021092  528.368144  168.063444   0.000419      361.010519   \n",
       "frame015_1.png    0.007197  193.354604  459.369980   0.000156       56.381236   \n",
       "frame023_4.png    0.000471  534.814485   67.564639   0.002793       -6.466188   \n",
       "frame083_1.png    0.830590  114.807346  150.423682   0.996504      210.664013   \n",
       "frame018_0.png    0.401404   42.006560  265.546865   0.516264      478.272154   \n",
       "frame0100_0.png   0.301735  817.573933  293.126086   0.999952      254.310640   \n",
       "frame021_0.png    0.823286  837.539532  277.368887   0.999164      755.140234   \n",
       "frame070_0.png    0.561224  745.852743   62.474946   0.001274      182.367523   \n",
       "\n",
       "scorer             ...                                                 \\\n",
       "bodyparts          ...     back right foot back left knee               \n",
       "coords             ...          likelihood              x           y   \n",
       "download.jpeg      ...            0.118286     231.784287  113.234203   \n",
       "frame00.png        ...            0.993838     436.571661  359.365819   \n",
       "frame016.png       ...            0.243947     426.258570  455.421768   \n",
       "download_1.jpeg    ...            0.021963     308.864642  510.295026   \n",
       "frame012.png       ...            0.668956     550.045852  439.395160   \n",
       "frame018.png       ...            0.910618     460.396295  421.092993   \n",
       "frame068.png       ...            0.334986     318.325034  408.406431   \n",
       "down_3.jpeg        ...            0.048603     217.569190  432.552882   \n",
       "down_2.jpg         ...            0.324584      91.617234  265.511842   \n",
       "down_4.jpg         ...            0.002149     441.173550  589.662492   \n",
       "frame080_0.png     ...            0.054283     680.359723  612.199921   \n",
       "frame080_1.png     ...            0.312187     586.876875  612.622630   \n",
       "frame0157_0.png    ...            0.951566      78.093972  385.730909   \n",
       "frame0157_1.png    ...            0.979748     668.649792  699.644003   \n",
       "frame0157_2.png    ...            0.625815     405.343187  720.057337   \n",
       "frame0157_3.png    ...            0.243599     546.315132  585.303138   \n",
       "frame0157_4.png    ...            0.000254     443.104615  252.761862   \n",
       "frame015_1.png     ...            0.000042     224.757403  168.120463   \n",
       "frame023_4.png     ...            0.000150      -7.452257   -0.841051   \n",
       "frame083_1.png     ...            0.752603      47.182437  706.032170   \n",
       "frame018_0.png     ...            0.639539      97.696353  635.468880   \n",
       "frame0100_0.png    ...            0.057572     772.580203  619.078758   \n",
       "frame021_0.png     ...            0.665801     828.904736  607.467065   \n",
       "frame070_0.png     ...            0.087117     175.686734  590.365686   \n",
       "\n",
       "scorer                                                                         \\\n",
       "bodyparts                    right ear                        back left ankle   \n",
       "coords          likelihood           x           y likelihood               x   \n",
       "download.jpeg     0.014248   61.343496   11.453466   0.084508      175.521054   \n",
       "frame00.png       0.999783  495.330883  272.651004   0.999657      436.012751   \n",
       "frame016.png      0.521080  794.394336  122.110314   0.919876      346.732059   \n",
       "download_1.jpeg   0.012532  193.412942   34.499787   0.200285      591.278532   \n",
       "frame012.png      0.744591  642.572308  240.871221   0.980358      562.638703   \n",
       "frame018.png      0.976532  556.196055  174.782155   0.735640      454.128862   \n",
       "frame068.png      0.733248  580.133397  258.050820   0.990805      324.402023   \n",
       "down_3.jpeg       0.558774  723.676527  325.415117   0.363524      220.209519   \n",
       "down_2.jpg        0.532516  305.218137  107.845413   0.935421       85.503410   \n",
       "down_4.jpg        0.037847  534.331282   81.342836   0.887963      297.877733   \n",
       "frame080_0.png    0.785285   60.077323  245.047872   0.003008      321.044654   \n",
       "frame080_1.png    0.737039  528.466665  343.776227   0.005238      278.408256   \n",
       "frame0157_0.png   0.054877  498.214136  355.727152   0.145874      536.034438   \n",
       "frame0157_1.png   0.078814  208.711133  430.060568   0.051495      624.456303   \n",
       "frame0157_2.png   0.982550  559.184041  115.918667   0.234600      434.304705   \n",
       "frame0157_3.png   0.002858  546.405499  573.204346   0.100182      819.130762   \n",
       "frame0157_4.png   0.000011  557.213935  347.069818   0.000038      411.400459   \n",
       "frame015_1.png    0.000069   79.227770  863.497437   0.000748       77.772906   \n",
       "frame023_4.png    0.000183  537.536792   55.288041   0.002057      200.274599   \n",
       "frame083_1.png    0.484188    1.340317  891.707950   0.016515       48.909739   \n",
       "frame018_0.png    0.223801  359.659944   21.678053   0.784334      371.682374   \n",
       "frame0100_0.png   0.149980  169.361846   41.128702   0.207095      302.216480   \n",
       "frame021_0.png    0.758898   49.676795   67.502878   0.066308      748.416492   \n",
       "frame070_0.png    0.810114  736.370158   51.088039   0.999587      170.687669   \n",
       "\n",
       "scorer                                  \n",
       "bodyparts                               \n",
       "coords                    y likelihood  \n",
       "download.jpeg    153.814431   0.027130  \n",
       "frame00.png      375.224008   0.999488  \n",
       "frame016.png     445.309913   0.012455  \n",
       "download_1.jpeg  590.505281   0.002738  \n",
       "frame012.png     488.257367   0.534499  \n",
       "frame018.png     496.592939   0.135314  \n",
       "frame068.png     443.810506   0.978228  \n",
       "down_3.jpeg      496.152985   0.036924  \n",
       "down_2.jpg       314.239692   0.953583  \n",
       "down_4.jpg       713.618015   0.180414  \n",
       "frame080_0.png   749.086140   0.666077  \n",
       "frame080_1.png   796.515538   0.429330  \n",
       "frame0157_0.png  519.225642   0.905038  \n",
       "frame0157_1.png  762.852880   0.019139  \n",
       "frame0157_2.png  786.536373   0.851322  \n",
       "frame0157_3.png  799.156314   0.014098  \n",
       "frame0157_4.png  305.574306   0.000369  \n",
       "frame015_1.png   873.175436   0.000067  \n",
       "frame023_4.png   277.358997   0.000072  \n",
       "frame083_1.png   845.882272   0.000686  \n",
       "frame018_0.png   823.470304   0.015783  \n",
       "frame0100_0.png  733.256270   0.481931  \n",
       "frame021_0.png   807.903528   0.486178  \n",
       "frame070_0.png   769.857588   0.168804  \n",
       "\n",
       "[24 rows x 75 columns]"
      ]
     },
     "execution_count": 8,
     "metadata": {},
     "output_type": "execute_result"
    }
   ],
   "source": [
    "DataMachine"
   ]
  },
  {
   "cell_type": "code",
   "execution_count": 9,
   "metadata": {},
   "outputs": [
    {
     "data": {
      "text/plain": [
       "'DeepCut_resnetresnet_50_70shuffle2_130000forTask:tanya'"
      ]
     },
     "execution_count": 9,
     "metadata": {},
     "output_type": "execute_result"
    }
   ],
   "source": [
    "DLCscorer"
   ]
  },
  {
   "cell_type": "markdown",
   "metadata": {},
   "source": [
    "# --- Store visualization of keypoints ----\n"
   ]
  },
  {
   "cell_type": "code",
   "execution_count": 10,
   "metadata": {},
   "outputs": [],
   "source": [
    "import os.path\n",
    "import sys\n",
    "#sys.path.append(os.getcwd().split('Generating_a_Training_Set')[0])\n",
    "\n",
    "\n",
    "from skimage import io\n",
    "import matplotlib\n",
    "%matplotlib inline\n",
    "# matplotlib.use('Agg')\n",
    "import numpy as np\n",
    "import pandas as pd\n",
    "import os\n",
    "import matplotlib.pyplot as plt\n",
    "#plt.rcParams['figure.figsize'] = [5,3]\n",
    "from myconfig import Task, filename, bodyparts, Scorers\n",
    "from myconfig import scorer as cfg_scorer\n",
    "\n",
    "Labels = ['.', '+', '*']  # order of labels for different scorers\n",
    "\n",
    "# https://stackoverflow.com/questions/14720331/how-to-generate-random-colors-in-matplotlib\n",
    "def get_cmap(n, name='hsv'):\n",
    "    '''Returns a function that maps each index in 0, 1, ..., n-1 to a distinct\n",
    "    RGB color; the keyword argument name must be a standard mpl colormap name.'''\n",
    "    return plt.cm.get_cmap(name, n)\n",
    "Colorscheme = get_cmap(len(bodyparts))\n",
    "\n",
    "comparisonbodyparts = list(set(DataMachine.columns.get_level_values(1)))\n",
    "\n",
    "scale = 1  # for plotting\n",
    "msize = 15   #size of labels\n",
    "\n",
    "scorer_machine = DLCscorer\n",
    "\n",
    "thr_likelihood = 0.1  #likelihood > 10 %"
   ]
  },
  {
   "cell_type": "code",
   "execution_count": 11,
   "metadata": {},
   "outputs": [
    {
     "name": "stderr",
     "output_type": "stream",
     "text": [
      "24it [00:15,  1.54it/s]\n"
     ]
    }
   ],
   "source": [
    "# imagename = 'frame016.png' #'download_1.jpeg.jpeg' #'frame016.png'  #'frame016.png'\n",
    "\n",
    "for imageindex, imagename in tqdm(enumerate(images_names)):\n",
    "\n",
    "\n",
    "    imindex = np.where(\n",
    "                np.array(DataMachine.index.values) == imagename)[0]\n",
    "\n",
    "    # image = io.imread('/is/ps2/calvarez2/DeepLabCut/pose-tensorflow/models/UnaugmentedDataSet_tanyaMay24/data-tanya/' + imagename)\n",
    "    image = io.imread(os.path.join(test_images_path, imagename),mode='RGB')\n",
    "    image = skimage.color.gray2rgb(image)\n",
    "    \n",
    "    image = homogenizeImage(image, max_input_size)\n",
    "    \n",
    "    plane_name , extenstion = imagename.split('.')\n",
    "\n",
    "    if extenstion != 'png':\n",
    "        imagename = plane_name + '.png'\n",
    "\n",
    "\n",
    "    plt.axis('off')\n",
    "\n",
    "    if np.ndim(image)==2:\n",
    "        h, w = np.shape(image)\n",
    "    else:\n",
    "        h, w, nc = np.shape(image)\n",
    "\n",
    "    plt.figure(\n",
    "        frameon=False, figsize=(w * 1. / 100 * scale, h * 1. / 100 * scale))\n",
    "    plt.subplots_adjust(\n",
    "        left=0, bottom=0, right=1, top=1, wspace=0, hspace=0)\n",
    "\n",
    "    plt.imshow(image, 'bone')\n",
    "    for cc, scorer in enumerate(Scorers):\n",
    "        for c, bp in enumerate(comparisonbodyparts):\n",
    "            \n",
    "            #cheeck likelihood > thr_likelihood %\n",
    "            \n",
    "            if (DataMachine[scorer_machine][bp]['likelihood'].values[imindex] > thr_likelihood):\n",
    "\n",
    "                plt.plot(   \n",
    "                        DataMachine[scorer_machine][bp]['x'].values[imindex],\n",
    "                        DataMachine[scorer_machine][bp]['y'].values[imindex],\n",
    "                        Labels[0],\n",
    "                        color=Colorscheme(c),\n",
    "                        alpha=.5,\n",
    "                        ms=msize)\n",
    "            else:\n",
    "                \n",
    "                plt.plot(   \n",
    "                        DataMachine[scorer_machine][bp]['x'].values[imindex],\n",
    "                        DataMachine[scorer_machine][bp]['y'].values[imindex],\n",
    "                        Labels[-1],\n",
    "                        color='w',\n",
    "                        alpha=.5,\n",
    "                        ms=msize)\n",
    "                \n",
    "            \n",
    "            \n",
    "    \n",
    "\n",
    "    plt.xlim(0, w)\n",
    "    plt.ylim(0, h)\n",
    "    plt.axis('off')\n",
    "    plt.subplots_adjust(\n",
    "        left=0, bottom=0, right=1, top=1, wspace=0, hspace=0)\n",
    "    plt.gca().invert_yaxis()\n",
    "    plt.savefig(labeled_images_path + '/' + imagename , dpi=100) #dpi=100 = original size\n",
    "    plt.close(\"all\")\n",
    "    \n",
    "    \n",
    "\n"
   ]
  }
 ],
 "metadata": {
  "kernelspec": {
   "display_name": "Python 2",
   "language": "python",
   "name": "python2"
  },
  "language_info": {
   "codemirror_mode": {
    "name": "ipython",
    "version": 2
   },
   "file_extension": ".py",
   "mimetype": "text/x-python",
   "name": "python",
   "nbconvert_exporter": "python",
   "pygments_lexer": "ipython2",
   "version": "2.7.12"
  }
 },
 "nbformat": 4,
 "nbformat_minor": 2
}
