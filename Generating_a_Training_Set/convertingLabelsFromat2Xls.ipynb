{
 "cells": [
  {
   "cell_type": "code",
   "execution_count": 2,
   "metadata": {},
   "outputs": [],
   "source": [
    "import pickle\n",
    "import sys\n",
    "import os\n",
    "import numpy as np\n",
    "import pandas as pd\n",
    "\n",
    "direc =  '/is/ps2/calvarez2/zebra_project/original Silvia/'\n",
    "\n",
    "pickle_name = 'exportedAnimalAnnotations-21042018-183211.pickle'\n",
    "\n",
    "pickle_file = pickle.load(open(direc + pickle_name))\n"
   ]
  },
  {
   "cell_type": "code",
   "execution_count": 3,
   "metadata": {},
   "outputs": [
    {
     "data": {
      "text/plain": [
       "[u'absoluteLocations', u'locations', u'modes']"
      ]
     },
     "execution_count": 3,
     "metadata": {},
     "output_type": "execute_result"
    }
   ],
   "source": [
    "pickle_file['dog73'][34389].keys()  #'absoluteLocations']['tail tip']['x']#.keys()  #['locations']['tail tip'] #'absoluteLocations'"
   ]
  },
  {
   "cell_type": "code",
   "execution_count": 4,
   "metadata": {},
   "outputs": [
    {
     "name": "stdout",
     "output_type": "stream",
     "text": [
      "dog73\n",
      "dog70\n"
     ]
    }
   ],
   "source": [
    "videos = pickle_file.keys()\n",
    "\n",
    "clip = videos[0]\n",
    "frame = pickle_file[clip].keys()[0]\n",
    "body_parts = pickle_file[clip][frame]['absoluteLocations'].keys()\n",
    "\n",
    "\n",
    "for video in videos:\n",
    "    print video\n",
    "\n",
    "    \n",
    "    #CREATE .XLS FILE FOR EACH BODY PART IN EACH VIDEO  !!!!\n",
    "    for body_part in body_parts:\n",
    "        \n",
    "        \n",
    "        frames = pickle_file[video].keys()\n",
    "        X = []\n",
    "        Y = []\n",
    "        modes = []\n",
    "        \n",
    "        for frame in frames:\n",
    "            #print frame         \n",
    "            x,y = pickle_file[video][frame]['absoluteLocations'][body_part].values()\n",
    "            mode = pickle_file[video][frame]['modes'][body_part]\n",
    "            #Append values to list\n",
    "            X.append(x)\n",
    "            Y.append(y)\n",
    "            modes.append(mode)\n",
    "            \n",
    "            \n",
    "            #if (frame == 34390):\n",
    "            #    break           \n",
    "        \n",
    "        #Create dataframe\n",
    "        d = {'X': X, 'Y': Y, 'mode': modes}\n",
    "        df = pd.DataFrame(data=d)\n",
    "        \n",
    "        #Save dataframe\n",
    "        df.to_csv('pavel_data/' +video + '/' + body_part + '.xls', sep='\\t')  #remove pavel_data\n",
    "        \n",
    "        #break\n",
    "    \n",
    "    if (video == 'dog70'):  # test only for the first 2 videos \n",
    "        break "
   ]
  },
  {
   "cell_type": "code",
   "execution_count": 22,
   "metadata": {
    "scrolled": false
   },
   "outputs": [
    {
     "name": "stdout",
     "output_type": "stream",
     "text": [
      "['tail tip', 'tail start', 'front left knee', 'front left foot', 'chin', 'back right knee', 'left eye', 'front right ankle', 'nosetip', 'right shoulder', 'left shoulder', 'back left foot', 'right eye', 'back right ankle', 'left ear', 'front right knee', 'front right foot', 'neck', 'front left ankle', 'back right foot', 'back left knee', 'right ear', 'back left ankle']\n"
     ]
    }
   ],
   "source": [
    "#print [x.encode('ascii') for x in body_parts]\n",
    "\n",
    "print map(lambda x: x.encode('ascii'), body_parts)\n"
   ]
  },
  {
   "cell_type": "markdown",
   "metadata": {},
   "source": [
    "## Save and read"
   ]
  },
  {
   "cell_type": "code",
   "execution_count": 7,
   "metadata": {},
   "outputs": [
    {
     "data": {
      "text/html": [
       "<div>\n",
       "<style scoped>\n",
       "    .dataframe tbody tr th:only-of-type {\n",
       "        vertical-align: middle;\n",
       "    }\n",
       "\n",
       "    .dataframe tbody tr th {\n",
       "        vertical-align: top;\n",
       "    }\n",
       "\n",
       "    .dataframe thead th {\n",
       "        text-align: right;\n",
       "    }\n",
       "</style>\n",
       "<table border=\"1\" class=\"dataframe\">\n",
       "  <thead>\n",
       "    <tr style=\"text-align: right;\">\n",
       "      <th></th>\n",
       "      <th>Unnamed: 0</th>\n",
       "      <th>X</th>\n",
       "      <th>Y</th>\n",
       "      <th>mode</th>\n",
       "    </tr>\n",
       "  </thead>\n",
       "  <tbody>\n",
       "    <tr>\n",
       "      <th>0</th>\n",
       "      <td>0</td>\n",
       "      <td>79.973475</td>\n",
       "      <td>195.230999</td>\n",
       "      <td>0</td>\n",
       "    </tr>\n",
       "    <tr>\n",
       "      <th>1</th>\n",
       "      <td>1</td>\n",
       "      <td>75.198939</td>\n",
       "      <td>198.807750</td>\n",
       "      <td>0</td>\n",
       "    </tr>\n",
       "    <tr>\n",
       "      <th>2</th>\n",
       "      <td>2</td>\n",
       "      <td>69.827586</td>\n",
       "      <td>201.192250</td>\n",
       "      <td>0</td>\n",
       "    </tr>\n",
       "    <tr>\n",
       "      <th>3</th>\n",
       "      <td>3</td>\n",
       "      <td>78.779841</td>\n",
       "      <td>201.788376</td>\n",
       "      <td>0</td>\n",
       "    </tr>\n",
       "    <tr>\n",
       "      <th>4</th>\n",
       "      <td>4</td>\n",
       "      <td>105.039788</td>\n",
       "      <td>194.634873</td>\n",
       "      <td>0</td>\n",
       "    </tr>\n",
       "    <tr>\n",
       "      <th>5</th>\n",
       "      <td>5</td>\n",
       "      <td>105.636605</td>\n",
       "      <td>192.846498</td>\n",
       "      <td>0</td>\n",
       "    </tr>\n",
       "    <tr>\n",
       "      <th>6</th>\n",
       "      <td>6</td>\n",
       "      <td>105.636605</td>\n",
       "      <td>195.230999</td>\n",
       "      <td>0</td>\n",
       "    </tr>\n",
       "    <tr>\n",
       "      <th>7</th>\n",
       "      <td>7</td>\n",
       "      <td>113.992042</td>\n",
       "      <td>197.019374</td>\n",
       "      <td>0</td>\n",
       "    </tr>\n",
       "    <tr>\n",
       "      <th>8</th>\n",
       "      <td>8</td>\n",
       "      <td>111.604775</td>\n",
       "      <td>202.384501</td>\n",
       "      <td>0</td>\n",
       "    </tr>\n",
       "    <tr>\n",
       "      <th>9</th>\n",
       "      <td>9</td>\n",
       "      <td>109.814324</td>\n",
       "      <td>203.576751</td>\n",
       "      <td>0</td>\n",
       "    </tr>\n",
       "  </tbody>\n",
       "</table>\n",
       "</div>"
      ],
      "text/plain": [
       "   Unnamed: 0           X           Y  mode\n",
       "0           0   79.973475  195.230999     0\n",
       "1           1   75.198939  198.807750     0\n",
       "2           2   69.827586  201.192250     0\n",
       "3           3   78.779841  201.788376     0\n",
       "4           4  105.039788  194.634873     0\n",
       "5           5  105.636605  192.846498     0\n",
       "6           6  105.636605  195.230999     0\n",
       "7           7  113.992042  197.019374     0\n",
       "8           8  111.604775  202.384501     0\n",
       "9           9  109.814324  203.576751     0"
      ]
     },
     "execution_count": 7,
     "metadata": {},
     "output_type": "execute_result"
    }
   ],
   "source": [
    "#To Save\n",
    "d = {'X': X, 'Y': Y, 'mode': modes}\n",
    "df = pd.DataFrame(data=d)\n",
    "df.to_csv('output_dogs.xls', sep='\\t')\n",
    "\n",
    "#To read \n",
    "dframe=pd.read_csv('output_dogs.xls' ,sep='\\t')\n",
    "dframe.X.values.astype(float)\n",
    "dframe"
   ]
  }
 ],
 "metadata": {
  "kernelspec": {
   "display_name": "Python 2",
   "language": "python",
   "name": "python2"
  }
 },
 "nbformat": 4,
 "nbformat_minor": 2
}
