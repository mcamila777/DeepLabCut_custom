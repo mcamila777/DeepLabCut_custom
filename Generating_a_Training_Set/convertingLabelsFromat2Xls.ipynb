{
 "cells": [
  {
   "cell_type": "code",
   "execution_count": 1,
   "metadata": {},
   "outputs": [],
   "source": [
    "import pickle\n",
    "import sys\n",
    "import os\n",
    "import numpy as np\n",
    "import pandas as pd\n",
    "\n",
    "direc =  '/is/ps2/calvarez2/zebra_project/original Silvia/'\n",
    "\n",
    "pickle_name = 'singleImages.pickle'#'exportedAnimalAnnotations-23052018-195922.pickle' #'exportedAnimalAnnotations-22052018-155952.pickle'#'exportedAnimalAnnotations-21042018-183211.pickle'\n",
    "\n",
    "pickle_file = pickle.load(open(direc + pickle_name, \"rb\"))\n"
   ]
  },
  {
   "cell_type": "code",
   "execution_count": 2,
   "metadata": {},
   "outputs": [
    {
     "data": {
      "text/plain": [
       "['single_images_00', 'single_images_01', 'single_images_03']"
      ]
     },
     "execution_count": 2,
     "metadata": {},
     "output_type": "execute_result"
    }
   ],
   "source": [
    "pickle_file.keys()"
   ]
  },
  {
   "cell_type": "code",
   "execution_count": 3,
   "metadata": {},
   "outputs": [],
   "source": [
    "import re\n",
    "#Methods to sort as human expect\n",
    "def tryint(s):\n",
    "    try:\n",
    "        return int(s)\n",
    "    except:\n",
    "        return s\n",
    "    \n",
    "def alphanum_key(s):\n",
    "    \"\"\" Turn a string into a list of string and number chunks.\n",
    "        \"z23a\" -> [\"z\", 23, \"a\"]\n",
    "    \"\"\"\n",
    "    return [ tryint(c) for c in re.split('([0-9]+)', s) ]\n",
    "\n",
    "def sort_nicely(l):\n",
    "    \"\"\" Sort the given list in the way that humans expect.\n",
    "    \"\"\"\n",
    "    l.sort(key=alphanum_key)\n",
    "    \n",
    "#-----------------------------------------------------------------"
   ]
  },
  {
   "cell_type": "code",
   "execution_count": 4,
   "metadata": {},
   "outputs": [
    {
     "data": {
      "text/plain": [
       "['single_images_00', 'single_images_01', 'single_images_03']"
      ]
     },
     "execution_count": 4,
     "metadata": {},
     "output_type": "execute_result"
    }
   ],
   "source": [
    "keys = pickle_file.keys()\n",
    "sort_nicely(keys)\n",
    "keys"
   ]
  },
  {
   "cell_type": "markdown",
   "metadata": {},
   "source": [
    "## For videos"
   ]
  },
  {
   "cell_type": "code",
   "execution_count": 5,
   "metadata": {},
   "outputs": [
    {
     "name": "stdout",
     "output_type": "stream",
     "text": [
      "single_images_00\n"
     ]
    }
   ],
   "source": [
    "videos = pickle_file.keys()\n",
    "\n",
    "clip = videos[0]\n",
    "frame = pickle_file[clip].keys()[0]\n",
    "body_parts = pickle_file[clip][frame]['absoluteLocations'].keys()\n",
    "\n",
    "\n",
    "for video in videos:\n",
    "    print video\n",
    "\n",
    "    \n",
    "    #CREATE .XLS FILE FOR EACH BODY PART IN EACH VIDEO  !!!!\n",
    "    for body_part in body_parts:\n",
    "        \n",
    "        \n",
    "        frames = pickle_file[video].keys()\n",
    "        sort_nicely(frames)\n",
    "        X = []\n",
    "        Y = []\n",
    "        modes = []\n",
    "        \n",
    "        for frame in frames:\n",
    "            #print frame         \n",
    "            y,x = pickle_file[video][frame]['absoluteLocations'][body_part].values()\n",
    "            mode = pickle_file[video][frame]['modes'][body_part]\n",
    "            #Append values to list\n",
    "            X.append(x)\n",
    "            Y.append(y)\n",
    "            modes.append(mode)\n",
    "            \n",
    "            \n",
    "            #if (frame == 34390):\n",
    "            #    break           \n",
    "        \n",
    "        #Create dataframe\n",
    "        d = {'X': X, 'Y': Y, 'mode': modes}\n",
    "        df = pd.DataFrame(data=d)\n",
    "        \n",
    "        #Save dataframe\n",
    "        df.to_csv('data-pavel/' +video + '/' + body_part + '.xls', sep='\\t')  #remove pavel_data\n",
    "        \n",
    "        #break\n",
    "    \n",
    "    if (video == 'single_images_00'):  # test only for the first 2 videos \n",
    "        break "
   ]
  },
  {
   "cell_type": "code",
   "execution_count": 21,
   "metadata": {},
   "outputs": [
    {
     "data": {
      "text/plain": [
       "{u'back left ankle': 2,\n",
       " u'back left foot': 2,\n",
       " u'back left knee': 2,\n",
       " u'back left shoulder': 2,\n",
       " u'back right ankle': 2,\n",
       " u'back right foot': 2,\n",
       " u'back right knee': 2,\n",
       " u'back right shoulder': 2,\n",
       " u'chin': 2,\n",
       " u'front left ankle': 2,\n",
       " u'front left foot': 2,\n",
       " u'front left knee': 2,\n",
       " u'front left shoulder': 2,\n",
       " u'front right ankle': 2,\n",
       " u'front right foot': 2,\n",
       " u'front right knee': 2,\n",
       " u'front right shoulder': 2,\n",
       " u'left ear': 2,\n",
       " u'left eye': 2,\n",
       " u'neck': 2,\n",
       " u'nosetip': 2,\n",
       " u'right ear': 2,\n",
       " u'right eye': 2,\n",
       " u'tail start': 2,\n",
       " u'tail tip': 2}"
      ]
     },
     "execution_count": 21,
     "metadata": {},
     "output_type": "execute_result"
    }
   ],
   "source": [
    "pickle_file['single_images_00']['frame_05']['modes']#['absoluteLocations']#['tail tip'].values()"
   ]
  },
  {
   "cell_type": "code",
   "execution_count": 7,
   "metadata": {
    "scrolled": false
   },
   "outputs": [
    {
     "name": "stdout",
     "output_type": "stream",
     "text": [
      "['tail tip', 'back right shoulder', 'tail start', 'front left knee', 'front left foot', 'chin', 'back right knee', 'left eye', 'front right ankle', 'nosetip', 'front right shoulder', 'front left shoulder', 'back left foot', 'right eye', 'back right ankle', 'left ear', 'front right knee', 'front right foot', 'back left shoulder', 'neck', 'front left ankle', 'back right foot', 'back left knee', 'right ear', 'back left ankle']\n"
     ]
    }
   ],
   "source": [
    "#print [x.encode('ascii') for x in body_parts]\n",
    "\n",
    "print map(lambda x: x.encode('ascii'), body_parts)\n"
   ]
  },
  {
   "cell_type": "markdown",
   "metadata": {},
   "source": [
    "## Save and read"
   ]
  },
  {
   "cell_type": "code",
   "execution_count": 8,
   "metadata": {},
   "outputs": [
    {
     "data": {
      "text/html": [
       "<div>\n",
       "<style scoped>\n",
       "    .dataframe tbody tr th:only-of-type {\n",
       "        vertical-align: middle;\n",
       "    }\n",
       "\n",
       "    .dataframe tbody tr th {\n",
       "        vertical-align: top;\n",
       "    }\n",
       "\n",
       "    .dataframe thead th {\n",
       "        text-align: right;\n",
       "    }\n",
       "</style>\n",
       "<table border=\"1\" class=\"dataframe\">\n",
       "  <thead>\n",
       "    <tr style=\"text-align: right;\">\n",
       "      <th></th>\n",
       "      <th>Unnamed: 0</th>\n",
       "      <th>X</th>\n",
       "      <th>Y</th>\n",
       "      <th>mode</th>\n",
       "    </tr>\n",
       "  </thead>\n",
       "  <tbody>\n",
       "    <tr>\n",
       "      <th>0</th>\n",
       "      <td>0</td>\n",
       "      <td>216.044776</td>\n",
       "      <td>625.739130</td>\n",
       "      <td>0</td>\n",
       "    </tr>\n",
       "    <tr>\n",
       "      <th>1</th>\n",
       "      <td>1</td>\n",
       "      <td>212.688822</td>\n",
       "      <td>256.972851</td>\n",
       "      <td>2</td>\n",
       "    </tr>\n",
       "    <tr>\n",
       "      <th>2</th>\n",
       "      <td>2</td>\n",
       "      <td>145.468998</td>\n",
       "      <td>255.278505</td>\n",
       "      <td>0</td>\n",
       "    </tr>\n",
       "    <tr>\n",
       "      <th>3</th>\n",
       "      <td>3</td>\n",
       "      <td>144.000000</td>\n",
       "      <td>683.000000</td>\n",
       "      <td>0</td>\n",
       "    </tr>\n",
       "    <tr>\n",
       "      <th>4</th>\n",
       "      <td>4</td>\n",
       "      <td>736.079404</td>\n",
       "      <td>581.721854</td>\n",
       "      <td>2</td>\n",
       "    </tr>\n",
       "    <tr>\n",
       "      <th>5</th>\n",
       "      <td>5</td>\n",
       "      <td>97.627119</td>\n",
       "      <td>464.253394</td>\n",
       "      <td>0</td>\n",
       "    </tr>\n",
       "    <tr>\n",
       "      <th>6</th>\n",
       "      <td>6</td>\n",
       "      <td>225.584416</td>\n",
       "      <td>614.177843</td>\n",
       "      <td>0</td>\n",
       "    </tr>\n",
       "    <tr>\n",
       "      <th>7</th>\n",
       "      <td>7</td>\n",
       "      <td>210.570071</td>\n",
       "      <td>509.032028</td>\n",
       "      <td>0</td>\n",
       "    </tr>\n",
       "    <tr>\n",
       "      <th>8</th>\n",
       "      <td>8</td>\n",
       "      <td>75.932203</td>\n",
       "      <td>564.705882</td>\n",
       "      <td>0</td>\n",
       "    </tr>\n",
       "    <tr>\n",
       "      <th>9</th>\n",
       "      <td>9</td>\n",
       "      <td>744.466019</td>\n",
       "      <td>479.300292</td>\n",
       "      <td>0</td>\n",
       "    </tr>\n",
       "    <tr>\n",
       "      <th>10</th>\n",
       "      <td>10</td>\n",
       "      <td>106.779661</td>\n",
       "      <td>528.393665</td>\n",
       "      <td>0</td>\n",
       "    </tr>\n",
       "    <tr>\n",
       "      <th>11</th>\n",
       "      <td>11</td>\n",
       "      <td>247.632509</td>\n",
       "      <td>549.687008</td>\n",
       "      <td>0</td>\n",
       "    </tr>\n",
       "    <tr>\n",
       "      <th>12</th>\n",
       "      <td>12</td>\n",
       "      <td>525.669643</td>\n",
       "      <td>360.745033</td>\n",
       "      <td>0</td>\n",
       "    </tr>\n",
       "    <tr>\n",
       "      <th>13</th>\n",
       "      <td>13</td>\n",
       "      <td>271.178138</td>\n",
       "      <td>707.608696</td>\n",
       "      <td>0</td>\n",
       "    </tr>\n",
       "    <tr>\n",
       "      <th>14</th>\n",
       "      <td>14</td>\n",
       "      <td>179.725610</td>\n",
       "      <td>526.678899</td>\n",
       "      <td>0</td>\n",
       "    </tr>\n",
       "    <tr>\n",
       "      <th>15</th>\n",
       "      <td>15</td>\n",
       "      <td>624.148607</td>\n",
       "      <td>514.819005</td>\n",
       "      <td>2</td>\n",
       "    </tr>\n",
       "  </tbody>\n",
       "</table>\n",
       "</div>"
      ],
      "text/plain": [
       "    Unnamed: 0           X           Y  mode\n",
       "0            0  216.044776  625.739130     0\n",
       "1            1  212.688822  256.972851     2\n",
       "2            2  145.468998  255.278505     0\n",
       "3            3  144.000000  683.000000     0\n",
       "4            4  736.079404  581.721854     2\n",
       "5            5   97.627119  464.253394     0\n",
       "6            6  225.584416  614.177843     0\n",
       "7            7  210.570071  509.032028     0\n",
       "8            8   75.932203  564.705882     0\n",
       "9            9  744.466019  479.300292     0\n",
       "10          10  106.779661  528.393665     0\n",
       "11          11  247.632509  549.687008     0\n",
       "12          12  525.669643  360.745033     0\n",
       "13          13  271.178138  707.608696     0\n",
       "14          14  179.725610  526.678899     0\n",
       "15          15  624.148607  514.819005     2"
      ]
     },
     "execution_count": 8,
     "metadata": {},
     "output_type": "execute_result"
    }
   ],
   "source": [
    "#To Save\n",
    "d = {'X': X, 'Y': Y, 'mode': modes}\n",
    "df = pd.DataFrame(data=d)\n",
    "df.to_csv('output_dogs.xls', sep='\\t')\n",
    "\n",
    "#To read \n",
    "dframe=pd.read_csv('output_dogs.xls' ,sep='\\t')\n",
    "dframe.X.values.astype(float)\n",
    "dframe"
   ]
  },
  {
   "cell_type": "code",
   "execution_count": 9,
   "metadata": {},
   "outputs": [
    {
     "data": {
      "text/plain": [
       "['single_images_00', 'single_images_01', 'single_images_03']"
      ]
     },
     "execution_count": 9,
     "metadata": {},
     "output_type": "execute_result"
    }
   ],
   "source": [
    "pickle_file.keys()\n"
   ]
  },
  {
   "cell_type": "code",
   "execution_count": 10,
   "metadata": {
    "scrolled": true
   },
   "outputs": [
    {
     "data": {
      "text/plain": [
       "[]"
      ]
     },
     "execution_count": 10,
     "metadata": {},
     "output_type": "execute_result"
    }
   ],
   "source": [
    "content = pickle_file.keys()\n",
    "selection = 'zebrasingleimage'\n",
    "filtered_keys = filter(lambda k: selection in k, content)\n",
    "filtered_keys\n",
    "#Puedo hacer esto mismo para la otra condicion y unir las dos listas de keys validas\n",
    "#teniendo las keys puedo ya sea iterar entre las keys y leer cada file . \n",
    "#O una soluci'on mas sucia seria iterar sobre todo el pickle en un for y poner la condicion de que si es zebra ejecute sino que sontinu'e ocn la sgte iter"
   ]
  },
  {
   "cell_type": "code",
   "execution_count": 11,
   "metadata": {},
   "outputs": [
    {
     "data": {
      "text/plain": [
       "[]"
      ]
     },
     "execution_count": 11,
     "metadata": {},
     "output_type": "execute_result"
    }
   ],
   "source": [
    "sort_nicely(filtered_keys)\n",
    "filtered_keys"
   ]
  },
  {
   "cell_type": "code",
   "execution_count": null,
   "metadata": {},
   "outputs": [],
   "source": []
  }
 ],
 "metadata": {
  "kernelspec": {
   "display_name": "Python 2",
   "language": "python",
   "name": "python2"
  },
  "language_info": {
   "codemirror_mode": {
    "name": "ipython",
    "version": 2
   },
   "file_extension": ".py",
   "mimetype": "text/x-python",
   "name": "python",
   "nbconvert_exporter": "python",
   "pygments_lexer": "ipython2",
   "version": "2.7.14"
  }
 },
 "nbformat": 4,
 "nbformat_minor": 2
}
