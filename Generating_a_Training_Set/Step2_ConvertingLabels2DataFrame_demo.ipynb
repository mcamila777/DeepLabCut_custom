{
 "cells": [
  {
   "cell_type": "markdown",
   "metadata": {},
   "source": [
    "# DeepLabCut Toolbox\n",
    "https://github.com/AlexEMG/DeepLabCut\n",
    "A Mathis, alexander.mathis@bethgelab.org & M Mathis, mackenzie@post.harvard.edu\n",
    "\n",
    "This script generates a data structure in pandas, that contains the (relative) physical\n",
    "address of the image as well as the labels. These data are extracted from the \"labeling.csv\" files that\n",
    "can be generated in a different file e.g. ImageJ / Fiji. See readme for details. \n",
    "\n",
    "Load data from individial folders with a Task and combine in one panda dataframe.\n",
    "Keys of panda frame:\n",
    "    - scorer\n",
    "    - bodypart\n",
    "    - x,y"
   ]
  },
  {
   "cell_type": "code",
   "execution_count": 1,
<<<<<<< HEAD
   "metadata": {},
=======
   "metadata": {
    "collapsed": true
   },
>>>>>>> public/master
   "outputs": [],
   "source": [
    "import numpy as np\n",
    "import pandas as pd\n",
    "import os,sys\n",
    "sys.path.append(os.getcwd().split('Generating_a_Training_Set')[0])\n",
<<<<<<< HEAD
    "from myconfig import Task, bodyparts, Scorers, invisibleboundary"
=======
    "from myconfig import Task, bodyparts, Scorers, invisibleboundary, multibodypartsfile, multibodypartsfilename"
>>>>>>> public/master
   ]
  },
  {
   "cell_type": "code",
   "execution_count": 2,
   "metadata": {},
   "outputs": [
    {
     "name": "stdout",
     "output_type": "stream",
     "text": [
<<<<<<< HEAD
      "tanya\n",
      "['tail tip', 'back right shoulder', 'tail start', 'front left knee', 'front left foot', 'chin', 'back right knee', 'left eye', 'front right ankle', 'nosetip', 'front right shoulder', 'front left shoulder', 'back left foot', 'right eye', 'back right ankle', 'left ear', 'front right knee', 'front right foot', 'back left shoulder', 'neck', 'front left ankle', 'back right foot', 'back left knee', 'right ear', 'back left ankle']\n",
      "['AMT']\n"
=======
      "reaching\n",
      "['hand', 'Finger1', 'Finger2', 'Joystick']\n",
      "['Mackenzie']\n"
>>>>>>> public/master
     ]
    }
   ],
   "source": [
    "# check relevant global variables: \n",
    "print(Task)\n",
    "print(bodyparts)\n",
<<<<<<< HEAD
    "print(Scorers)"
=======
    "print(Scorers)\n",
    "\n",
    "basefolder='data-'+Task+'/'\n",
    "\n",
    "###################################################\n",
    "# Code if all bodyparts (per folder are shared in one file)\n",
    "# This code below converts it into multiple csv files per body part & folder\n",
    "# Based on an idea by @sneakers-the-rat\n",
    "###################################################\n",
    "\n",
    "if multibodypartsfile==True:\n",
    "    folders = [name for name in os.listdir(basefolder) if os.path.isdir(os.path.join(basefolder, name))]    \n",
    "    for folder in folders:\n",
    "        # load csv, iterate over nth value in a grouping by frame, save to bodyparts files\n",
    "        dframe = pd.read_csv(os.path.join(basefolder,folder,multibodypartsfilename))\n",
    "        frame_grouped = dframe.groupby('Slice') #Note: the order of bodyparts list in myconfig and labels must be identical!\n",
    "        for i, bodypart in enumerate(bodyparts):\n",
    "            part_df = frame_grouped.nth(i)\n",
    "            part_fn =  part_fn = os.path.join(basefolder,folder,bodypart+'.csv')\n",
    "            part_df.to_csv(part_fn)"
>>>>>>> public/master
   ]
  },
  {
   "cell_type": "code",
   "execution_count": 3,
<<<<<<< HEAD
   "metadata": {
    "scrolled": true
   },
=======
   "metadata": {},
>>>>>>> public/master
   "outputs": [
    {
     "name": "stdout",
     "output_type": "stream",
     "text": [
<<<<<<< HEAD
      "('Loading folder ', 'single_images_00')\n",
      "ERROR: Labels and iamges amoun does not match\n",
      "('Done with folder ', 'single_images_00')\n",
      "('Loading folder ', 'single_images_01')\n",
      "ERROR: Labels and iamges amoun does not match\n",
      "('Done with folder ', 'single_images_01')\n",
      "('Loading folder ', 'single_images_03')\n",
      "ERROR: Labels and iamges amoun does not match\n",
      "('Done with folder ', 'single_images_03')\n",
=======
      "Loading folder  reachingvideo1\n",
      "Done with folder  reachingvideo1\n",
>>>>>>> public/master
      "Merging scorer's data.\n"
     ]
    }
   ],
   "source": [
<<<<<<< HEAD
    "basefolder='data-'+Task+'/'\n",
    "\n",
=======
    "###################################################\n",
    "# Code if each bodypart has its own label file!\n",
    "###################################################\n",
>>>>>>> public/master
    "DataCombined=None #Data frame to hold data of all data sets for different scorers, bodyparts and images\n",
    "\n",
    "for scorer in Scorers:\n",
    "    os.chdir(basefolder)\n",
    "    #Make list of different video data sets / each one has its own folder\n",
<<<<<<< HEAD
    "    folders=[videodatasets for videodatasets in os.listdir(os.curdir) if os.path.isdir(videodatasets)==True and\n",
    "     'labeled' not in videodatasets]       \n",
    "    try: \n",
    "        #print ('try')\n",
=======
    "    folders=[videodatasets for videodatasets in os.listdir(os.curdir) if os.path.isdir(videodatasets)==True]       \n",
    "    try: \n",
>>>>>>> public/master
    "        DataSingleUser=pd.read_hdf('CollectedData_'+scorer+'.h5', 'df_with_missing')\n",
    "        numdistinctfolders=list(set([s.split('/')[0] for s in DataSingleUser.index])) #NOTE: SLICING to eliminate multiindices!\n",
    "        #print(\"found\",len(folders),len(numdistinctfolders))\n",
    "        if len(folders)>len(numdistinctfolders):\n",
    "            DataSingleUsers=None\n",
    "            print(\"Not all data converted!\")\n",
    "        else:\n",
    "            print(scorer,\"'s data already collected!\")\n",
<<<<<<< HEAD
    "            #print(DataSingleUser.head())    \n",
    "    except:\n",
    "        #print ('except')\n",
=======
    "            print(DataSingleUser.head())    \n",
    "    except:\n",
>>>>>>> public/master
    "        DataSingleUser=None    \n",
    "\n",
    "    \n",
    "    if DataSingleUser is None:    \n",
    "        for folder in folders:\n",
    "            print(\"Loading folder \", folder)\n",
    "            os.chdir(folder)\n",
    "            # sort image file names according to how they were stacked\n",
<<<<<<< HEAD
    "            \n",
    "            #files=[fn for fn in os.listdir(os.curdir) if (\"img\" in fn and \".png\" in fn and \"_labelled\" not in fn)]\n",
    "            files=[fn for fn in os.listdir(os.curdir) if (\"frame\" in fn and \".png\" in fn and \"_labelled\" not in fn)]\n",
    "\n",
    "            files.sort(key=lambda f: int(''.join(filter(str.isdigit, f))))\n",
    "            \n",
    "            imageaddress=[folder+'/'+f for f in files]\n",
    "            #Data_onefolder=pd.DataFrame({'Image name': imageaddress})\n",
=======
    "            files=[fn for fn in os.listdir(os.curdir) if (\"img\" in fn and \".png\" in fn and \"_labelled\" not in fn)]\n",
    "            files.sort(key=lambda f: int(''.join(filter(str.isdigit, f))))\n",
    "            \n",
    "            imageaddress=[folder+'/'+f for f in files]\n",
    "            Data_onefolder=pd.DataFrame({'Image name': imageaddress})\n",
>>>>>>> public/master
    "            \n",
    "            frame,Frame=None,None\n",
    "            for bodypart in bodyparts:\n",
    "                datafile=bodypart\n",
    "                try:\n",
<<<<<<< HEAD
    "                        dframe=pd.read_csv(datafile+\".xls\", sep=None,engine='python')#,sep='\\t') \n",
    "                        #print(dframe.head())\n",
    "                        \n",
    "                except:\n",
    "                        os.rename(datafile+\".csv\", datafile+\".xls\")\n",
    "                        dframe=pd.read_csv(datafile+\".xls\", sep=None,engine='python')#,sep='\\t')\n",
=======
    "                        dframe=pd.read_csv(datafile+\".xls\",sep=None,engine='python')\n",
    "                except:\n",
    "                        os.rename(datafile+\".csv\", datafile+\".xls\")\n",
    "                        dframe=pd.read_csv(datafile+\".xls\",sep=None,engine='python')\n",
>>>>>>> public/master
    "                        \n",
    "                # Note: If your csv file is not correctly loaded, then a common error is:\n",
    "                # \"AttributeError: 'DataFrame' object has no attribute 'X'\" or the corresponding error with Slice\n",
    "                # Try to make sure you specify the seperator of the csv file correctly. See https://github.com/AlexEMG/DeepLabCut/issues/10 for details.\n",
<<<<<<< HEAD
    "        \n",
    "                if dframe.shape[0]!=len(imageaddress):\n",
    "                    \n",
    "                    if('name' in dframe.keys()):\n",
    "                        print('Watch out: Labels and iamges amount does not match')\n",
    "                        imageaddress = dframe['name']\n",
    "                    else: \n",
    "                        #Filling up with nans \n",
    "                        #dframe.set_index('Slice')\n",
    "                        new_index=pd.Index(np.arange(len(files))+1,name='Slice')\n",
    "                        dframe=dframe.set_index('Slice').reindex(new_index)\n",
    "                        dframe=dframe.reset_index() \n",
    "                \n",
    "                    \n",
    "             \n",
    "                #print(dframe.head())\n",
=======
    "                                       \n",
    "                if dframe.shape[0]!=len(imageaddress):\n",
    "                    #Filling up with nans \n",
    "                    #dframe.set_index('Slice')\n",
    "                    new_index=pd.Index(np.arange(len(files))+1,name='Slice')\n",
    "                    dframe=dframe.set_index('Slice').reindex(new_index)\n",
    "                    dframe=dframe.reset_index()        \n",
    "             \n",
    "                #print(frame.head())\n",
>>>>>>> public/master
    "                #print(bodypart)\n",
    "                index = pd.MultiIndex.from_product([[scorer], [bodypart], ['x', 'y']], names=['scorer', 'bodyparts', 'coords'])\n",
    "                \n",
    "                Xrescaled=dframe.X.values.astype(float)\n",
    "                Yrescaled=dframe.Y.values.astype(float)\n",
    "                \n",
<<<<<<< HEAD
    "                #-----------------------------------------------------------------------------\n",
    "                \n",
    "               \n",
    "                \n",
    "                if('mode' in dframe.keys()):\n",
    "                    #Remove only the ocluded joint\n",
    "                    invisiblemarkersmask = (dframe['mode'] != 0)\n",
    "                    Xrescaled[invisiblemarkersmask] = np.nan\n",
    "                    Yrescaled[invisiblemarkersmask] = np.nan\n",
    "                    \n",
    "                else:\n",
    "                    # get rid of values that are invisible >> thus user scored in left corner!\n",
    "                    #invisiblemarkersmask = (Xrescaled < invisibleboundary) * (Yrescaled < invisibleboundary)\n",
    "                    #Xrescaled[invisiblemarkersmask] = np.nan\n",
    "                    #Yrescaled[invisiblemarkersmask] = np.nan\n",
    "\n",
    "                    #Remove data (all the image) with ocluded joint (invisibleboundary)\n",
    "\n",
    "                    del_ind  =  np.where((Xrescaled < invisibleboundary) * (Yrescaled < invisibleboundary))\n",
    "                    Xrescaled = np.delete(Xrescaled, del_ind ,0)\n",
    "                    Yrescaled = np.delete(Yrescaled, del_ind ,0)\n",
    "                    imageaddress = np.delete(imageaddress, del_ind ,0).tolist()\n",
    "      \n",
    "                #-----------------------------------------------------------------------------\n",
=======
    "                # get rid of values that are invisible >> thus user scored in left corner!\n",
    "                invisiblemarkersmask = (Xrescaled < invisibleboundary) * (Yrescaled < invisibleboundary)\n",
    "                Xrescaled[invisiblemarkersmask] = np.nan\n",
    "                Yrescaled[invisiblemarkersmask] = np.nan\n",
>>>>>>> public/master
    "                \n",
    "                if Frame is None:\n",
    "                    #frame=pd.DataFrame(np.vstack([dframe.X,dframe.Y]).T, columns=index,index=imageaddress)\n",
    "                    frame=pd.DataFrame(np.vstack([Xrescaled,Yrescaled]).T, columns=index,index=imageaddress)\n",
    "                    #print(frame.head())\n",
    "                    Frame=frame\n",
    "                else:\n",
    "                    \n",
    "                \n",
    "                    frame=pd.DataFrame(np.vstack([Xrescaled,Yrescaled]).T, columns=index,index=imageaddress)\n",
    "                    Frame=pd.concat([Frame,frame],axis=1) # along bodyparts & scorer dimension\n",
    "\n",
    "                \n",
<<<<<<< HEAD
    "            print(\"Done with folder \", folder) \n",
    "            Frame = Frame.dropna(how='all')\n",
=======
    "            print(\"Done with folder \", folder)   \n",
>>>>>>> public/master
    "            if DataSingleUser is None:\n",
    "                DataSingleUser=Frame\n",
    "            else:\n",
    "                DataSingleUser=pd.concat([DataSingleUser,Frame],axis=0) #along filenames! \n",
    "                    \n",
    "            os.chdir('../')\n",
    "        \n",
    "        # Save data by this scorer\n",
    "        DataSingleUser.to_csv(\"CollectedData_\"+scorer+\".csv\") #breaks multi-indices HDF5 tables better!\n",
    "        DataSingleUser.to_hdf('CollectedData_'+scorer+'.h5', 'df_with_missing',format = 'table', mode='w')\n",
    "        \n",
    "    os.chdir('../')\n",
    "    \n",
    "    print(\"Merging scorer's data.\") "
   ]
<<<<<<< HEAD
=======
  },
  {
   "cell_type": "code",
   "execution_count": null,
   "metadata": {
    "collapsed": true
   },
   "outputs": [],
   "source": []
>>>>>>> public/master
  }
 ],
 "metadata": {
  "kernelspec": {
<<<<<<< HEAD
   "display_name": "Python 2",
   "language": "python",
   "name": "python2"
=======
   "display_name": "Python 3",
   "language": "python",
   "name": "python3"
>>>>>>> public/master
  },
  "language_info": {
   "codemirror_mode": {
    "name": "ipython",
<<<<<<< HEAD
    "version": 2
=======
    "version": 3
>>>>>>> public/master
   },
   "file_extension": ".py",
   "mimetype": "text/x-python",
   "name": "python",
   "nbconvert_exporter": "python",
<<<<<<< HEAD
   "pygments_lexer": "ipython2",
   "version": "2.7.14"
=======
   "pygments_lexer": "ipython3",
   "version": "3.6.3"
>>>>>>> public/master
  },
  "varInspector": {
   "cols": {
    "lenName": 16,
    "lenType": 16,
    "lenVar": 40
   },
   "kernels_config": {
    "python": {
     "delete_cmd_postfix": "",
     "delete_cmd_prefix": "del ",
     "library": "var_list.py",
     "varRefreshCmd": "print(var_dic_list())"
    },
    "r": {
     "delete_cmd_postfix": ") ",
     "delete_cmd_prefix": "rm(",
     "library": "var_list.r",
     "varRefreshCmd": "cat(var_dic_list()) "
    }
   },
   "types_to_exclude": [
    "module",
    "function",
    "builtin_function_or_method",
    "instance",
    "_Feature"
   ],
   "window_display": false
  }
 },
 "nbformat": 4,
 "nbformat_minor": 2
}
