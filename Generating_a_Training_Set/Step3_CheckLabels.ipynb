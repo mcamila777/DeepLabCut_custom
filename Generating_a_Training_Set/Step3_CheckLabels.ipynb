{
 "cells": [
  {
   "cell_type": "markdown",
   "metadata": {},
   "source": [
    "# DeepLabCut Toolbox\n",
    "https://github.com/AlexEMG/DeepLabCut\n",
    "\n",
    "A Mathis, alexander.mathis@bethgelab.org & M Mathis, mackenzie@post.harvard.edu\n",
    "\n",
    "Generates training images with labels to check if annotation was done correctly/correctly loaded."
   ]
  },
  {
   "cell_type": "code",
   "execution_count": 1,
   "metadata": {},
   "outputs": [],
   "source": [
    "####################################################\n",
    "######## Loading dependencies\n",
    "####################################################\n",
    "\n",
    "import os.path\n",
    "import sys\n",
    "sys.path.append(os.getcwd().split('Generating_a_Training_Set')[0])\n",
    "import matplotlib\n",
    "matplotlib.use('Agg')\n",
    "import numpy as np\n",
    "import pandas as pd\n",
    "import os\n",
    "from skimage import io\n",
    "import matplotlib.pyplot as plt\n",
    "from myconfig import Task, filename, bodyparts, Scorers, colormap, scale, msize, alphavalue, imagetype\n",
    "from myconfig import scorer as cfg_scorer"
   ]
  },
  {
   "cell_type": "code",
   "execution_count": 2,
   "metadata": {},
   "outputs": [
    {
     "data": {
      "text/plain": [
       "'hsv'"
      ]
     },
     "execution_count": 2,
     "metadata": {},
     "output_type": "execute_result"
    }
   ],
   "source": [
    "colormap"
   ]
  },
  {
   "cell_type": "code",
   "execution_count": 3,
   "metadata": {
    "scrolled": true
   },
   "outputs": [
    {
     "name": "stdout",
     "output_type": "stream",
     "text": [
      "27\n",
      "[[0], [1], [2], [3], [4], [5], [6], [7], [8], [9], [10], [11], [12], [13], [14], [15], [16], [17], [18], [19], [20], [21], [22], [23], [24], [25], [26]]\n",
      "['tail tip', 'back right shoulder', 'tail start', 'front left foot tip', 'front left knee', 'chin', 'back left foot tip', 'back right knee', 'left nostril', 'left eye', 'front right ankle', 'end of mane', 'left ear tip', 'front right foot tip', 'front left shoulder', 'right ear tip', 'right eye', 'back right ankle', 'start of mane', 'front right knee', 'front right shoulder', 'back left shoulder', 'front left ankle', 'back left knee', 'back left ankle', 'back right foot tip', 'right nostril']\n",
      "['bounding_box_images_uniformSize_29.08.18']\n",
      "('Creating images with labels by ', 'AMT')\n"
     ]
    },
    {
     "ename": "KeyboardInterrupt",
     "evalue": "",
     "output_type": "error",
     "traceback": [
      "\u001b[0;31m---------------------------------------------------------------------------\u001b[0m",
      "\u001b[0;31mKeyboardInterrupt\u001b[0m                         Traceback (most recent call last)",
      "\u001b[0;32m<ipython-input-3-7e36b5fca8fe>\u001b[0m in \u001b[0;36m<module>\u001b[0;34m()\u001b[0m\n\u001b[1;32m    106\u001b[0m             left=0, bottom=0, right=1, top=1, wspace=0, hspace=0)\n\u001b[1;32m    107\u001b[0m         \u001b[0mplt\u001b[0m\u001b[0;34m.\u001b[0m\u001b[0mgca\u001b[0m\u001b[0;34m(\u001b[0m\u001b[0;34m)\u001b[0m\u001b[0;34m.\u001b[0m\u001b[0minvert_yaxis\u001b[0m\u001b[0;34m(\u001b[0m\u001b[0;34m)\u001b[0m\u001b[0;34m\u001b[0m\u001b[0m\n\u001b[0;32m--> 108\u001b[0;31m         \u001b[0mplt\u001b[0m\u001b[0;34m.\u001b[0m\u001b[0msavefig\u001b[0m\u001b[0;34m(\u001b[0m\u001b[0;34m'../'\u001b[0m \u001b[0;34m+\u001b[0m \u001b[0mtmpfolder\u001b[0m \u001b[0;34m+\u001b[0m \u001b[0;34m'/'\u001b[0m \u001b[0;34m+\u001b[0m \u001b[0mimagename\u001b[0m\u001b[0;34m)\u001b[0m\u001b[0;34m\u001b[0m\u001b[0m\n\u001b[0m\u001b[1;32m    109\u001b[0m         \u001b[0mplt\u001b[0m\u001b[0;34m.\u001b[0m\u001b[0mclose\u001b[0m\u001b[0;34m(\u001b[0m\u001b[0;34m\"all\"\u001b[0m\u001b[0;34m)\u001b[0m\u001b[0;34m\u001b[0m\u001b[0m\n\u001b[1;32m    110\u001b[0m \u001b[0;34m\u001b[0m\u001b[0m\n",
      "\u001b[0;32m/usr/lib/python2.7/dist-packages/matplotlib/pyplot.pyc\u001b[0m in \u001b[0;36msavefig\u001b[0;34m(*args, **kwargs)\u001b[0m\n\u001b[1;32m    686\u001b[0m \u001b[0;32mdef\u001b[0m \u001b[0msavefig\u001b[0m\u001b[0;34m(\u001b[0m\u001b[0;34m*\u001b[0m\u001b[0margs\u001b[0m\u001b[0;34m,\u001b[0m \u001b[0;34m**\u001b[0m\u001b[0mkwargs\u001b[0m\u001b[0;34m)\u001b[0m\u001b[0;34m:\u001b[0m\u001b[0;34m\u001b[0m\u001b[0m\n\u001b[1;32m    687\u001b[0m     \u001b[0mfig\u001b[0m \u001b[0;34m=\u001b[0m \u001b[0mgcf\u001b[0m\u001b[0;34m(\u001b[0m\u001b[0;34m)\u001b[0m\u001b[0;34m\u001b[0m\u001b[0m\n\u001b[0;32m--> 688\u001b[0;31m     \u001b[0mres\u001b[0m \u001b[0;34m=\u001b[0m \u001b[0mfig\u001b[0m\u001b[0;34m.\u001b[0m\u001b[0msavefig\u001b[0m\u001b[0;34m(\u001b[0m\u001b[0;34m*\u001b[0m\u001b[0margs\u001b[0m\u001b[0;34m,\u001b[0m \u001b[0;34m**\u001b[0m\u001b[0mkwargs\u001b[0m\u001b[0;34m)\u001b[0m\u001b[0;34m\u001b[0m\u001b[0m\n\u001b[0m\u001b[1;32m    689\u001b[0m     \u001b[0mfig\u001b[0m\u001b[0;34m.\u001b[0m\u001b[0mcanvas\u001b[0m\u001b[0;34m.\u001b[0m\u001b[0mdraw_idle\u001b[0m\u001b[0;34m(\u001b[0m\u001b[0;34m)\u001b[0m   \u001b[0;31m# need this if 'transparent=True' to reset colors\u001b[0m\u001b[0;34m\u001b[0m\u001b[0m\n\u001b[1;32m    690\u001b[0m     \u001b[0;32mreturn\u001b[0m \u001b[0mres\u001b[0m\u001b[0;34m\u001b[0m\u001b[0m\n",
      "\u001b[0;32m/usr/lib/python2.7/dist-packages/matplotlib/figure.pyc\u001b[0m in \u001b[0;36msavefig\u001b[0;34m(self, *args, **kwargs)\u001b[0m\n\u001b[1;32m   1563\u001b[0m             \u001b[0mself\u001b[0m\u001b[0;34m.\u001b[0m\u001b[0mset_frameon\u001b[0m\u001b[0;34m(\u001b[0m\u001b[0mframeon\u001b[0m\u001b[0;34m)\u001b[0m\u001b[0;34m\u001b[0m\u001b[0m\n\u001b[1;32m   1564\u001b[0m \u001b[0;34m\u001b[0m\u001b[0m\n\u001b[0;32m-> 1565\u001b[0;31m         \u001b[0mself\u001b[0m\u001b[0;34m.\u001b[0m\u001b[0mcanvas\u001b[0m\u001b[0;34m.\u001b[0m\u001b[0mprint_figure\u001b[0m\u001b[0;34m(\u001b[0m\u001b[0;34m*\u001b[0m\u001b[0margs\u001b[0m\u001b[0;34m,\u001b[0m \u001b[0;34m**\u001b[0m\u001b[0mkwargs\u001b[0m\u001b[0;34m)\u001b[0m\u001b[0;34m\u001b[0m\u001b[0m\n\u001b[0m\u001b[1;32m   1566\u001b[0m \u001b[0;34m\u001b[0m\u001b[0m\n\u001b[1;32m   1567\u001b[0m         \u001b[0;32mif\u001b[0m \u001b[0mframeon\u001b[0m\u001b[0;34m:\u001b[0m\u001b[0;34m\u001b[0m\u001b[0m\n",
      "\u001b[0;32m/usr/lib/python2.7/dist-packages/matplotlib/backend_bases.pyc\u001b[0m in \u001b[0;36mprint_figure\u001b[0;34m(self, filename, dpi, facecolor, edgecolor, orientation, format, **kwargs)\u001b[0m\n\u001b[1;32m   2230\u001b[0m                 \u001b[0morientation\u001b[0m\u001b[0;34m=\u001b[0m\u001b[0morientation\u001b[0m\u001b[0;34m,\u001b[0m\u001b[0;34m\u001b[0m\u001b[0m\n\u001b[1;32m   2231\u001b[0m                 \u001b[0mbbox_inches_restore\u001b[0m\u001b[0;34m=\u001b[0m\u001b[0m_bbox_inches_restore\u001b[0m\u001b[0;34m,\u001b[0m\u001b[0;34m\u001b[0m\u001b[0m\n\u001b[0;32m-> 2232\u001b[0;31m                 **kwargs)\n\u001b[0m\u001b[1;32m   2233\u001b[0m         \u001b[0;32mfinally\u001b[0m\u001b[0;34m:\u001b[0m\u001b[0;34m\u001b[0m\u001b[0m\n\u001b[1;32m   2234\u001b[0m             \u001b[0;32mif\u001b[0m \u001b[0mbbox_inches\u001b[0m \u001b[0;32mand\u001b[0m \u001b[0mrestore_bbox\u001b[0m\u001b[0;34m:\u001b[0m\u001b[0;34m\u001b[0m\u001b[0m\n",
      "\u001b[0;32m/usr/lib/python2.7/dist-packages/matplotlib/backends/backend_agg.pyc\u001b[0m in \u001b[0;36mprint_png\u001b[0;34m(self, filename_or_obj, *args, **kwargs)\u001b[0m\n\u001b[1;32m    535\u001b[0m             \u001b[0mclose\u001b[0m \u001b[0;34m=\u001b[0m \u001b[0mFalse\u001b[0m\u001b[0;34m\u001b[0m\u001b[0m\n\u001b[1;32m    536\u001b[0m         \u001b[0;32mtry\u001b[0m\u001b[0;34m:\u001b[0m\u001b[0;34m\u001b[0m\u001b[0m\n\u001b[0;32m--> 537\u001b[0;31m             \u001b[0m_png\u001b[0m\u001b[0;34m.\u001b[0m\u001b[0mwrite_png\u001b[0m\u001b[0;34m(\u001b[0m\u001b[0mrenderer\u001b[0m\u001b[0;34m.\u001b[0m\u001b[0m_renderer\u001b[0m\u001b[0;34m,\u001b[0m \u001b[0mfilename_or_obj\u001b[0m\u001b[0;34m,\u001b[0m \u001b[0mself\u001b[0m\u001b[0;34m.\u001b[0m\u001b[0mfigure\u001b[0m\u001b[0;34m.\u001b[0m\u001b[0mdpi\u001b[0m\u001b[0;34m)\u001b[0m\u001b[0;34m\u001b[0m\u001b[0m\n\u001b[0m\u001b[1;32m    538\u001b[0m         \u001b[0;32mfinally\u001b[0m\u001b[0;34m:\u001b[0m\u001b[0;34m\u001b[0m\u001b[0m\n\u001b[1;32m    539\u001b[0m             \u001b[0;32mif\u001b[0m \u001b[0mclose\u001b[0m\u001b[0;34m:\u001b[0m\u001b[0;34m\u001b[0m\u001b[0m\n",
      "\u001b[0;31mKeyboardInterrupt\u001b[0m: "
     ]
    }
   ],
   "source": [
    "###################################################\n",
    "# Code if each bodypart has its own label file!\n",
    "###################################################\n",
    "\n",
    "Labels = ['>','+', '.',  '*'] # order of labels for different scorers\n",
    "\n",
    "scale = 1  # for plotting\n",
    "msize= 15  #25   #size of labels\n",
    "\n",
    "unvisibleboundary = 100 #10 ??? my config  # see metadata / when bodypart not visible!\n",
    "#############################################\n",
    "# Make sure you update the train.yaml file!\n",
    "#############################################\n",
    "\n",
    "num_joints = len(bodyparts)\n",
    "all_joints = map(lambda j: [j], range(num_joints))\n",
    "all_joints_names = bodyparts\n",
    "\n",
    "# https://stackoverflow.com/questions/14720331/how-to-generate-random-colors-in-matplotlib\n",
    "def get_cmap(n, name=colormap):\n",
    "    '''Returns a function that maps each index in 0, 1, ..., n-1 to a distinct\n",
    "    RGB color; the keyword argument name must be a standard mpl colormap name.'''\n",
    "    return plt.cm.get_cmap(name, n)\n",
    "\n",
    "Colorscheme = get_cmap(len(bodyparts))\n",
    "\n",
    "print(num_joints)\n",
    "print(all_joints)\n",
    "print(all_joints_names)\n",
    "\n",
    "\n",
    "basefolder = './' + 'data-' + Task\n",
    "numbodyparts = len(bodyparts)\n",
    "\n",
    "# Data frame to hold data of all data sets for different scorers, bodyparts and images\n",
    "DataCombined = None\n",
    "\n",
    "os.chdir(basefolder)\n",
    "\n",
    "DataCombined = pd.read_hdf(\n",
    "    'CollectedData_' + cfg_scorer + '.h5', 'df_with_missing')\n",
    "\n",
    "# Make list of different video data sets:\n",
    "folders = [\n",
    "    videodatasets for videodatasets in os.listdir(os.curdir)\n",
    "    if os.path.isdir(videodatasets) and\n",
    "     'labeled' not in videodatasets #and filename.split('.')[0] in videodatasets \n",
    "    \n",
    "]\n",
    "\n",
    "print(folders)\n",
    "# videos=np.sort([fn for fn in os.listdir(os.curdir) if (\"avi\" in fn)])\n",
    "\n",
    "\n",
    "for folder in folders:\n",
    "    tmpfolder = folder + 'labeled'\n",
    "    try:\n",
    "        os.mkdir(tmpfolder)\n",
    "    except:\n",
    "        pass\n",
    "    os.chdir(folder)\n",
    "    # sort image file names according to how they were stacked (when labeled in Fiji)\n",
    "    files = [\n",
    "        fn for fn in os.listdir(os.curdir)\n",
    "        if (\"frame\" in fn and imagetype in fn and \"_labeled\" not in fn)\n",
    "    ]\n",
    "    files.sort(key=lambda f: int(''.join(filter(str.isdigit, f))))\n",
    "\n",
    "    comparisonbodyparts = bodyparts #list(set(DataCombined.columns.get_level_values(1))) \n",
    "\n",
    "    for index, imagename in enumerate(files):\n",
    "        image = io.imread(imagename)\n",
    "        plt.axis('off')\n",
    "\n",
    "        if np.ndim(image)==2:\n",
    "            h, w = np.shape(image)\n",
    "        else:\n",
    "            h, w, nc = np.shape(image)\n",
    "            \n",
    "        plt.figure(\n",
    "            frameon=False, figsize=(w * 1. / 100 * scale, h * 1. / 100 * scale))\n",
    "        plt.subplots_adjust(\n",
    "            left=0, bottom=0, right=1, top=1, wspace=0, hspace=0)\n",
    "\n",
    "        # This is important when using data combined / which runs consecutively!\n",
    "        imindex = np.where(\n",
    "            np.array(DataCombined.index.values) == folder + '/' + imagename)[0]\n",
    "\n",
    "        plt.imshow(image, 'bone')\n",
    "        for cc, scorer in enumerate(Scorers):\n",
    "            if index==0:\n",
    "                print(\"Creating images with labels by \", scorer)\n",
    "            for c, bp in enumerate(comparisonbodyparts):\n",
    "                plt.plot(\n",
    "                    DataCombined[scorer][bp]['x'].values[imindex],\n",
    "                    DataCombined[scorer][bp]['y'].values[imindex],\n",
    "                    Labels[cc],\n",
    "                    color=Colorscheme(c),\n",
    "                    alpha=alphavalue,\n",
    "                    ms=msize)\n",
    "\n",
    "        plt.xlim(0, w)\n",
    "        plt.ylim(0, h)\n",
    "        plt.axis('off')\n",
    "        plt.subplots_adjust(\n",
    "            left=0, bottom=0, right=1, top=1, wspace=0, hspace=0)\n",
    "        plt.gca().invert_yaxis()\n",
    "        plt.savefig('../' + tmpfolder + '/' + imagename)\n",
    "        plt.close(\"all\")\n",
    "\n",
    "    os.chdir(\"../\")\n",
    "os.chdir(\"../\")"
   ]
  },
  {
   "cell_type": "markdown",
   "metadata": {},
   "source": [
    "# Now, in the folder data-reaching, you will find a new folder called data-reachinglabeled - check these images"
   ]
  }
 ],
 "metadata": {
  "kernelspec": {
   "display_name": "Python 2",
   "language": "python",
   "name": "python2"
  },
  "language_info": {
   "codemirror_mode": {
    "name": "ipython",
    "version": 2
   },
   "file_extension": ".py",
   "mimetype": "text/x-python",
   "name": "python",
   "nbconvert_exporter": "python",
   "pygments_lexer": "ipython2",
   "version": "2.7.12"
  },
  "varInspector": {
   "cols": {
    "lenName": 16,
    "lenType": 16,
    "lenVar": 40
   },
   "kernels_config": {
    "python": {
     "delete_cmd_postfix": "",
     "delete_cmd_prefix": "del ",
     "library": "var_list.py",
     "varRefreshCmd": "print(var_dic_list())"
    },
    "r": {
     "delete_cmd_postfix": ") ",
     "delete_cmd_prefix": "rm(",
     "library": "var_list.r",
     "varRefreshCmd": "cat(var_dic_list()) "
    }
   },
   "types_to_exclude": [
    "module",
    "function",
    "builtin_function_or_method",
    "instance",
    "_Feature"
   ],
   "window_display": false
  }
 },
 "nbformat": 4,
 "nbformat_minor": 2
}
