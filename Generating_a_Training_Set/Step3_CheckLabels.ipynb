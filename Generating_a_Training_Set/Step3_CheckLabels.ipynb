{
 "cells": [
  {
   "cell_type": "markdown",
   "metadata": {},
   "source": [
    "# DeepLabCut Toolbox\n",
    "https://github.com/AlexEMG/DeepLabCut\n",
    "\n",
    "A Mathis, alexander.mathis@bethgelab.org & M Mathis, mackenzie@post.harvard.edu\n",
    "\n",
    "Generates training images with labels to check if annotation was done correctly/correctly loaded."
   ]
  },
  {
   "cell_type": "code",
   "execution_count": 1,
   "metadata": {},
   "outputs": [],
   "source": [
    "####################################################\n",
    "######## Loading dependencies\n",
    "####################################################\n",
    "\n",
    "import os.path\n",
    "import sys\n",
    "sys.path.append(os.getcwd().split('Generating_a_Training_Set')[0])\n",
    "import matplotlib\n",
    "matplotlib.use('Agg')\n",
    "import numpy as np\n",
    "import pandas as pd\n",
    "import os\n",
    "from skimage import io\n",
    "import matplotlib.pyplot as plt\n",
    "from myconfig import Task, filename, bodyparts, Scorers\n",
    "from myconfig import scorer as cfg_scorer"
   ]
  },
  {
   "cell_type": "code",
   "execution_count": 2,
   "metadata": {},
   "outputs": [
    {
     "name": "stdout",
     "output_type": "stream",
     "text": [
      "pavel\n",
      "['tail tip', 'back right shoulder', 'tail start', 'front left knee', 'front left foot', 'chin', 'back right knee', 'left eye', 'front right ankle', 'nosetip', 'front right shoulder', 'front left shoulder', 'back left foot', 'right eye', 'back right ankle', 'left ear', 'front right knee', 'front right foot', 'back left shoulder', 'neck', 'front left ankle', 'back right foot', 'back left knee', 'right ear', 'back left ankle']\n",
      "camila\n"
     ]
    }
   ],
   "source": [
    "# check global variables: \n",
    "print(Task)\n",
    "#print(filename)\n",
    "print(bodyparts)\n",
    "print(cfg_scorer)\n"
   ]
  },
  {
   "cell_type": "code",
   "execution_count": 3,
   "metadata": {
    "scrolled": true
   },
   "outputs": [
    {
     "name": "stdout",
     "output_type": "stream",
     "text": [
      "25\n",
      "[[0], [1], [2], [3], [4], [5], [6], [7], [8], [9], [10], [11], [12], [13], [14], [15], [16], [17], [18], [19], [20], [21], [22], [23], [24]]\n",
      "['tail tip', 'back right shoulder', 'tail start', 'front left knee', 'front left foot', 'chin', 'back right knee', 'left eye', 'front right ankle', 'nosetip', 'front right shoulder', 'front left shoulder', 'back left foot', 'right eye', 'back right ankle', 'left ear', 'front right knee', 'front right foot', 'back left shoulder', 'neck', 'front left ankle', 'back right foot', 'back left knee', 'right ear', 'back left ankle']\n",
      "['single_images_00']\n",
      "('Creating images with labels by ', 'camila')\n"
     ]
    }
   ],
   "source": [
    "###################################################\n",
    "# Code if each bodypart has its own label file!\n",
    "###################################################\n",
    "\n",
    "Labels = ['.', '+', '*']  # order of labels for different scorers\n",
    "\n",
    "Colorscheme = ['r', 'g', 'y', 'b', 'm', 'r', 'g', 'y',\n",
    "               'b' , 'r', 'g', 'y', 'b', 'm', 'r', 'g', 'y',\n",
    "               'b', 'r', 'g', 'y', 'b', 'm', 'r', 'g', 'y',\n",
    "               'b']  # colors for those bodyparts.\n",
    "unvisibleboundary = 100 #10 ??? my config  # see metadata / when bodypart not visible!\n",
    "\n",
    "#############################################\n",
    "# Make sure you update the train.yaml file!\n",
    "#############################################\n",
    "\n",
    "num_joints = len(bodyparts)\n",
    "all_joints = map(lambda j: [j], range(num_joints))\n",
    "all_joints_names = bodyparts\n",
    "\n",
    "print(num_joints)\n",
    "print(all_joints)\n",
    "print(all_joints_names)\n",
    "\n",
    "\n",
    "basefolder = './' + 'data-' + Task\n",
    "numbodyparts = len(bodyparts)\n",
    "\n",
    "# Data frame to hold data of all data sets for different scorers, bodyparts and images\n",
    "DataCombined = None\n",
    "\n",
    "os.chdir(basefolder)\n",
    "\n",
    "DataCombined = pd.read_hdf(\n",
    "    'CollectedData_' + cfg_scorer + '.h5', 'df_with_missing')\n",
    "\n",
    "# Make list of different video data sets:\n",
    "folders = [\n",
    "    videodatasets for videodatasets in os.listdir(os.curdir)\n",
    "    if os.path.isdir(videodatasets) and\n",
    "     'labeled' not in videodatasets #and filename.split('.')[0] in videodatasets \n",
    "]\n",
    "\n",
    "print(folders)\n",
    "\n",
    "\n",
    "# videos=np.sort([fn for fn in os.listdir(os.curdir) if (\"avi\" in fn)])\n",
    "scale = 1  # for plotting\n",
    "msize=15 #25   #size of labels\n",
    "\n",
    "for folder in folders:\n",
    "    tmpfolder = folder + 'labeled'\n",
    "    try:\n",
    "        os.mkdir(tmpfolder)\n",
    "    except:\n",
    "        pass\n",
    "    os.chdir(folder)\n",
    "    # sort image file names according to how they were stacked (when labeled in Fiji)\n",
    "    files = [\n",
    "        fn for fn in os.listdir(os.curdir)\n",
    "        #if (\"img\" in fn and \".png\" in fn and \"_labelled\" not in fn)\n",
    "        if (\"frame\" in fn and \".png\" in fn and \"_labelled\" not in fn)\n",
    "\n",
    "    ]\n",
    "    files.sort(key=lambda f: int(''.join(filter(str.isdigit, f))))\n",
    "\n",
    "    comparisonbodyparts = list(set(DataCombined.columns.get_level_values(1)))\n",
    "\n",
    "    for index, imagename in enumerate(files):\n",
    "        image = io.imread(imagename)\n",
    "        plt.axis('off')\n",
    "\n",
    "        h, w, nc = np.shape(image)\n",
    "        plt.figure(\n",
    "            frameon=False, figsize=(w * 1. / 100 * scale, h * 1. / 100 * scale))\n",
    "        plt.subplots_adjust(\n",
    "            left=0, bottom=0, right=1, top=1, wspace=0, hspace=0)\n",
    "\n",
    "        # This is important when using data combined / which runs consecutively!\n",
    "        imindex = np.where(\n",
    "            np.array(DataCombined.index.values) == folder + '/' + imagename)[0]\n",
    "\n",
    "        plt.imshow(image, 'bone')\n",
    "        for cc, scorer in enumerate(Scorers):\n",
    "            if index==0:\n",
    "                print(\"Creating images with labels by \", scorer)\n",
    "            for c, bp in enumerate(comparisonbodyparts):\n",
    "                plt.plot(\n",
    "                    DataCombined[scorer][bp]['x'].values[imindex],\n",
    "                    DataCombined[scorer][bp]['y'].values[imindex],\n",
    "                    Labels[cc],\n",
    "                    color=Colorscheme[c],\n",
    "                    alpha=.5,\n",
    "                    ms=msize)\n",
    "\n",
    "        plt.xlim(0, w)\n",
    "        plt.ylim(0, h)\n",
    "        plt.axis('off')\n",
    "        plt.subplots_adjust(\n",
    "            left=0, bottom=0, right=1, top=1, wspace=0, hspace=0)\n",
    "        plt.gca().invert_yaxis()\n",
    "        plt.savefig('../' + tmpfolder + '/' + imagename)\n",
    "        plt.close(\"all\")\n",
    "\n",
    "    os.chdir(\"../\")\n",
    "os.chdir(\"../\")"
   ]
  },
  {
   "cell_type": "markdown",
   "metadata": {},
   "source": [
    "# Now, in the folder data-reaching, you will find a new folder called data-reachinglabeled - check these images!"
   ]
  }
 ],
 "metadata": {
  "kernelspec": {
   "display_name": "Python 2",
   "language": "python",
   "name": "python2"
  },
  "language_info": {
   "codemirror_mode": {
    "name": "ipython",
    "version": 2
   },
   "file_extension": ".py",
   "mimetype": "text/x-python",
   "name": "python",
   "nbconvert_exporter": "python",
   "pygments_lexer": "ipython2",
   "version": "2.7.14"
  },
  "varInspector": {
   "cols": {
    "lenName": 16,
    "lenType": 16,
    "lenVar": 40
   },
   "kernels_config": {
    "python": {
     "delete_cmd_postfix": "",
     "delete_cmd_prefix": "del ",
     "library": "var_list.py",
     "varRefreshCmd": "print(var_dic_list())"
    },
    "r": {
     "delete_cmd_postfix": ") ",
     "delete_cmd_prefix": "rm(",
     "library": "var_list.r",
     "varRefreshCmd": "cat(var_dic_list()) "
    }
   },
   "types_to_exclude": [
    "module",
    "function",
    "builtin_function_or_method",
    "instance",
    "_Feature"
   ],
   "window_display": false
  }
 },
 "nbformat": 4,
 "nbformat_minor": 2
}
