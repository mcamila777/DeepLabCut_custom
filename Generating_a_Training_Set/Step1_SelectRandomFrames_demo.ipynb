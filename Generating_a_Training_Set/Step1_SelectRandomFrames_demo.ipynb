{
 "cells": [
  {
   "cell_type": "markdown",
   "metadata": {},
   "source": [
    "\n",
    "# DeepLabCut Toolbox\n",
    "\n",
    "https://github.com/AlexEMG/DeepLabCut\n",
    "\n",
    "A Mathis, alexander.mathis@bethgelab.org & M Mathis, mackenzie@post.harvard.edu\n",
    "\n",
    "## Step 1:\n",
    "\n",
    "A key point is to select diverse frames, which are typical for the behavior you study that should be labeled. This helper script selects N frames uniformly sampled from a particular video. Ideally you would also get data from different session and different animals if those vary substantially. Note: this might not yield diverse frames, if the behavior is sparsely distributed.\n",
    "\n",
    "Individual images should not be too big (i.e. < 850 x 850 pixel). Although this can be taken care of later as well, it is advisable to crop the frames, to remove unnecessary parts of the video as much as possible. \n",
    "\n",
    "If color information is not essential for your task, then store iamges as greyscale images. This will make the memory load of the network smaller.\n"
   ]
  },
  {
   "cell_type": "raw",
   "metadata": {},
   "source": [
    "#First, if you have not done so already, in a terminal add: (you may need to use sudo before pip!)\n",
    "\n",
    "$ pip install scipy scikit-image matplotlib pyyaml easydict \n",
    "$ pip install moviepy imageio tqdm \n",
    "$ pip install tables"
   ]
  },
  {
   "cell_type": "code",
   "execution_count": 2,
   "metadata": {},
   "outputs": [
    {
     "ename": "ModuleNotFoundError",
     "evalue": "No module named 'moviepy'",
     "output_type": "error",
     "traceback": [
      "\u001b[0;31m---------------------------------------------------------------------------\u001b[0m",
      "\u001b[0;31mModuleNotFoundError\u001b[0m                       Traceback (most recent call last)",
      "\u001b[0;32m<ipython-input-2-b69607a1e702>\u001b[0m in \u001b[0;36m<module>\u001b[0;34m()\u001b[0m\n\u001b[1;32m      6\u001b[0m \u001b[0;32mimport\u001b[0m \u001b[0mmatplotlib\u001b[0m\u001b[0;34m\u001b[0m\u001b[0m\n\u001b[1;32m      7\u001b[0m \u001b[0;32mimport\u001b[0m \u001b[0mmatplotlib\u001b[0m\u001b[0;34m.\u001b[0m\u001b[0mpyplot\u001b[0m \u001b[0;32mas\u001b[0m \u001b[0mplt\u001b[0m\u001b[0;34m\u001b[0m\u001b[0m\n\u001b[0;32m----> 8\u001b[0;31m \u001b[0;32mfrom\u001b[0m \u001b[0mmoviepy\u001b[0m\u001b[0;34m.\u001b[0m\u001b[0meditor\u001b[0m \u001b[0;32mimport\u001b[0m \u001b[0mVideoFileClip\u001b[0m\u001b[0;34m\u001b[0m\u001b[0m\n\u001b[0m\u001b[1;32m      9\u001b[0m \u001b[0;32mfrom\u001b[0m \u001b[0mskimage\u001b[0m \u001b[0;32mimport\u001b[0m \u001b[0mio\u001b[0m\u001b[0;34m\u001b[0m\u001b[0m\n\u001b[1;32m     10\u001b[0m \u001b[0;32mfrom\u001b[0m \u001b[0mskimage\u001b[0m\u001b[0;34m.\u001b[0m\u001b[0mutil\u001b[0m \u001b[0;32mimport\u001b[0m \u001b[0mimg_as_ubyte\u001b[0m\u001b[0;34m\u001b[0m\u001b[0m\n",
      "\u001b[0;31mModuleNotFoundError\u001b[0m: No module named 'moviepy'"
     ]
    }
   ],
   "source": [
    "#Dependencies: \n",
    "\n",
    "%matplotlib inline\n",
    "import imageio\n",
    "imageio.plugins.ffmpeg.download()\n",
    "import matplotlib\n",
    "import matplotlib.pyplot as plt\n",
    "from moviepy.editor import VideoFileClip\n",
    "from skimage import io\n",
    "from skimage.util import img_as_ubyte\n",
    "import numpy as np\n",
    "import os, math,sys\n",
    "sys.path.append(os.getcwd().split('Generating_a_Training_Set')[0])\n",
    "from myconfig import Task, vidpath, filename, x1, x2, y1, y2, portion, \\\n",
    "    Scorers, bodyparts, date, cropping\n",
    "import auxiliaryfunctions"
   ]
  },
  {
   "cell_type": "code",
   "execution_count": null,
   "metadata": {},
   "outputs": [],
   "source": [
    "# check global variablesfrom myconfig file.\n",
    "print(Task)\n",
    "print(filename)\n",
    "print(bodyparts)\n",
    "print(Scorers)\n",
    "print(date)"
   ]
  },
  {
   "cell_type": "code",
   "execution_count": null,
   "metadata": {},
   "outputs": [],
   "source": [
    "#Create base folder, which will contain frames from multiple videos for one labeling task.\n",
    "basefolder='data-'+Task+'/'\n",
    "auxiliaryfunctions.attempttomakefolder(basefolder)"
   ]
  },
  {
   "cell_type": "code",
   "execution_count": null,
   "metadata": {},
   "outputs": [],
   "source": [
    "#####################################################################\n",
    "######## First load the image and crop (if necessary). \n",
    "#####################################################################\n",
    "\n",
    "## Number of frames to pick (set this to 1 until you found right cropping)\n",
    "numframes2pick=10\n",
    "\n",
    "clip = VideoFileClip(vidpath+'/'+filename)\n",
    "print(\"Duration of video [s], \", clip.duration, \"fps, \", clip.fps, \"Cropped frame dimensions: \", clip.size)\n",
    "\n",
    "ny,nx=clip.size #dimensions of frame (width, height)\n",
    "\n",
    "if cropping==True:\n",
    "    # Select ROI of interest by adjusting values in myconfig.py\n",
    "    clip=clip.crop(y1=y1,y2=y2,x1 = x1,x2=x2)\n",
    "\n",
    "'''\n",
    "USAGE:\n",
    "    \n",
    "clip.crop(x1=None, y1=None, x2=None, y2=None, width=None, height=None, x_center=None, y_center=None)\n",
    "\n",
    "Returns a new clip in which just a rectangular subregion of the\n",
    "original clip is conserved. x1,y1 indicates the top left corner and\n",
    "x2,y2 is the lower right corner of the croped region.\n",
    "\n",
    "All coordinates are in pixels. Float numbers are accepted.\n",
    "\n",
    "'''\n",
    "print(\"Duration of video [s]: \", clip.duration, \"fps: \", clip.fps, \"Cropped frame dimensions: \", clip.size)\n",
    "\n",
    "\n",
    "image = clip.get_frame(1.2)\n",
    "io.imsave(\"IsCroppingOK.png\", image) \n",
    "\n",
    "plt.imshow(image)\n",
    "plt.show()\n",
    "\n",
    "print(\"--> Open CroppingOK.png file to set the output range! <---\")\n",
    "print(\"--> Adjust shiftx, shifty, fx and fy accordingly! <---\")"
   ]
  },
  {
   "cell_type": "markdown",
   "metadata": {},
   "source": [
    "## If you are happy with the cropping, proceed to extract frames, \n"
   ]
  },
  {
   "cell_type": "code",
   "execution_count": null,
   "metadata": {},
   "outputs": [],
   "source": [
    "numframes2pick= 20;\n",
    "\n",
    "####################################################\n",
    "######## Creating folder with name of experiment and extract random frames\n",
    "####################################################\n",
    "\n",
    "print(\"Videoname: \", filename)\n",
    "folder=filename.split('.')[0]\n",
    "auxiliaryfunctions.attempttomakefolder(basefolder+folder)\n",
    "\n",
    "frames=np.random.randint(math.floor(clip.duration*clip.fps),size=numframes2pick-1)\n",
    "width=int(np.ceil(np.log10(clip.duration/clip.fps))) \n",
    "\n",
    "for index in frames:\n",
    "    try:\n",
    "        image=img_as_ubyte(clip.get_frame(index*1./clip.fps))\n",
    "        io.imsave(basefolder+folder+\"/img\"+str(index).zfill(width)+\".png\",image)\n",
    "    except FileNotFoundError:\n",
    "        print(\"Frame # \", index, \" does not exist.\")\n",
    "\n",
    "######## Extract the first frame (not cropped!) - useful for data augmentation \n",
    "\n",
    "clip = VideoFileClip(vidpath+'/'+filename)\n",
    "index=0\n",
    "image=img_as_ubyte(clip.get_frame(index*1./clip.fps))\n",
    "io.imsave(basefolder+folder+\"/img\"+str(index).zfill(width)+\".png\",image)\n"
   ]
  },
  {
   "cell_type": "markdown",
   "metadata": {
    "collapsed": true
   },
   "source": [
    "## Now go label the frames (they are in the folder you specified!) in Fiji!\n",
    "\n",
    "In Fiji one can simply open the images, create a (virtual) stack (In fiji: File > Import > Image Sequence > (check \"virtual stack\")), then use the \"Multi-point Tool\" to label frames "
   ]
  }
 ],
 "metadata": {
  "kernelspec": {
   "display_name": "Python 3",
   "language": "python",
   "name": "python3"
  },
  "language_info": {
   "codemirror_mode": {
    "name": "ipython",
    "version": 3
   },
   "file_extension": ".py",
   "mimetype": "text/x-python",
   "name": "python",
   "nbconvert_exporter": "python",
   "pygments_lexer": "ipython3",
   "version": "3.6.3"
  },
  "varInspector": {
   "cols": {
    "lenName": 16,
    "lenType": 16,
    "lenVar": 40
   },
   "kernels_config": {
    "python": {
     "delete_cmd_postfix": "",
     "delete_cmd_prefix": "del ",
     "library": "var_list.py",
     "varRefreshCmd": "print(var_dic_list())"
    },
    "r": {
     "delete_cmd_postfix": ") ",
     "delete_cmd_prefix": "rm(",
     "library": "var_list.r",
     "varRefreshCmd": "cat(var_dic_list()) "
    }
   },
   "types_to_exclude": [
    "module",
    "function",
    "builtin_function_or_method",
    "instance",
    "_Feature"
   ],
   "window_display": false
  }
 },
 "nbformat": 4,
 "nbformat_minor": 2
}
